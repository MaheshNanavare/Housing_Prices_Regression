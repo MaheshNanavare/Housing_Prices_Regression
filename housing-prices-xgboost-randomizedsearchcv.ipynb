{
 "cells": [
  {
   "cell_type": "markdown",
   "id": "e4788a11",
   "metadata": {
    "papermill": {
     "duration": 0.019613,
     "end_time": "2022-10-08T20:35:05.247436",
     "exception": false,
     "start_time": "2022-10-08T20:35:05.227823",
     "status": "completed"
    },
    "tags": []
   },
   "source": [
    "# **Housing Prices Competition**\n",
    "* **Regressor Algorithm Used:** XGBoost\n",
    "* **Hyper-parameters optimized:** learning_rate, n_estimators, max_depth, subsample, gamma, colsample (using RandomizedSearchCV)\n",
    "* Used 'pipelines' to improve the efficiency of machine learning code."
   ]
  },
  {
   "cell_type": "markdown",
   "id": "82f5e194",
   "metadata": {
    "papermill": {
     "duration": 0.015265,
     "end_time": "2022-10-08T20:35:05.278548",
     "exception": false,
     "start_time": "2022-10-08T20:35:05.263283",
     "status": "completed"
    },
    "tags": []
   },
   "source": [
    "## Contents:\n",
    "1. **X, y Dataframes Creation**\n",
    "2. **X, y Summary**\n",
    "3. **Data Cleaning**\n",
    "4. **Feature Engineering**\n",
    "5. **Feature Selection**\n",
    "6. **Model Creation**\n",
    "7. **Training and Testing Model**"
   ]
  },
  {
   "cell_type": "markdown",
   "id": "432780f8",
   "metadata": {
    "papermill": {
     "duration": 0.015412,
     "end_time": "2022-10-08T20:35:05.309693",
     "exception": false,
     "start_time": "2022-10-08T20:35:05.294281",
     "status": "completed"
    },
    "tags": []
   },
   "source": [
    "# 1) X, y Dataframes Creation"
   ]
  },
  {
   "cell_type": "markdown",
   "id": "2741e923",
   "metadata": {
    "papermill": {
     "duration": 0.01589,
     "end_time": "2022-10-08T20:35:05.341355",
     "exception": false,
     "start_time": "2022-10-08T20:35:05.325465",
     "status": "completed"
    },
    "tags": []
   },
   "source": [
    "## Import Libraries"
   ]
  },
  {
   "cell_type": "code",
   "execution_count": 1,
   "id": "0581373b",
   "metadata": {
    "execution": {
     "iopub.execute_input": "2022-10-08T20:35:05.375338Z",
     "iopub.status.busy": "2022-10-08T20:35:05.374555Z",
     "iopub.status.idle": "2022-10-08T20:35:06.597048Z",
     "shell.execute_reply": "2022-10-08T20:35:06.595785Z"
    },
    "papermill": {
     "duration": 1.243201,
     "end_time": "2022-10-08T20:35:06.600139",
     "exception": false,
     "start_time": "2022-10-08T20:35:05.356938",
     "status": "completed"
    },
    "tags": []
   },
   "outputs": [],
   "source": [
    "# Data Analytics Libraries\n",
    "import numpy as np\n",
    "import pandas as pd\n",
    "import matplotlib.pyplot as plt\n",
    "import seaborn as sns\n",
    "from pandas.api.types import CategoricalDtype"
   ]
  },
  {
   "cell_type": "code",
   "execution_count": 2,
   "id": "ab43b5c3",
   "metadata": {
    "execution": {
     "iopub.execute_input": "2022-10-08T20:35:06.634481Z",
     "iopub.status.busy": "2022-10-08T20:35:06.633645Z",
     "iopub.status.idle": "2022-10-08T20:35:07.110317Z",
     "shell.execute_reply": "2022-10-08T20:35:07.108991Z"
    },
    "papermill": {
     "duration": 0.496861,
     "end_time": "2022-10-08T20:35:07.113011",
     "exception": false,
     "start_time": "2022-10-08T20:35:06.616150",
     "status": "completed"
    },
    "tags": []
   },
   "outputs": [],
   "source": [
    "# Machine Learning Libraries\n",
    "from sklearn.compose import ColumnTransformer\n",
    "from sklearn.pipeline import Pipeline\n",
    "from sklearn.impute import SimpleImputer\n",
    "from sklearn.preprocessing import OneHotEncoder\n",
    "from xgboost import XGBRegressor\n",
    "from sklearn.model_selection import GridSearchCV, RandomizedSearchCV\n",
    "from sklearn.metrics import mean_squared_error, r2_score"
   ]
  },
  {
   "cell_type": "markdown",
   "id": "58f48b54",
   "metadata": {
    "_kg_hide-input": true,
    "papermill": {
     "duration": 0.015005,
     "end_time": "2022-10-08T20:35:07.143792",
     "exception": false,
     "start_time": "2022-10-08T20:35:07.128787",
     "status": "completed"
    },
    "tags": []
   },
   "source": [
    "## List all files under the input directory"
   ]
  },
  {
   "cell_type": "code",
   "execution_count": 3,
   "id": "89973dfb",
   "metadata": {
    "_kg_hide-input": true,
    "_kg_hide-output": true,
    "execution": {
     "iopub.execute_input": "2022-10-08T20:35:07.177820Z",
     "iopub.status.busy": "2022-10-08T20:35:07.177320Z",
     "iopub.status.idle": "2022-10-08T20:35:07.186376Z",
     "shell.execute_reply": "2022-10-08T20:35:07.185085Z"
    },
    "papermill": {
     "duration": 0.02948,
     "end_time": "2022-10-08T20:35:07.189331",
     "exception": false,
     "start_time": "2022-10-08T20:35:07.159851",
     "status": "completed"
    },
    "tags": []
   },
   "outputs": [
    {
     "name": "stdout",
     "output_type": "stream",
     "text": [
      "/kaggle/input/home-data-for-ml-course/sample_submission.csv\n",
      "/kaggle/input/home-data-for-ml-course/sample_submission.csv.gz\n",
      "/kaggle/input/home-data-for-ml-course/train.csv.gz\n",
      "/kaggle/input/home-data-for-ml-course/data_description.txt\n",
      "/kaggle/input/home-data-for-ml-course/test.csv.gz\n",
      "/kaggle/input/home-data-for-ml-course/train.csv\n",
      "/kaggle/input/home-data-for-ml-course/test.csv\n"
     ]
    }
   ],
   "source": [
    "import os\n",
    "for dirname, _, filenames in os.walk('/kaggle/input'):\n",
    "    for filename in filenames:\n",
    "        print(os.path.join(dirname, filename))"
   ]
  },
  {
   "cell_type": "markdown",
   "id": "f13b55c1",
   "metadata": {
    "papermill": {
     "duration": 0.015076,
     "end_time": "2022-10-08T20:35:07.220421",
     "exception": false,
     "start_time": "2022-10-08T20:35:07.205345",
     "status": "completed"
    },
    "tags": []
   },
   "source": [
    "## Read the data"
   ]
  },
  {
   "cell_type": "code",
   "execution_count": 4,
   "id": "962b9f16",
   "metadata": {
    "execution": {
     "iopub.execute_input": "2022-10-08T20:35:07.253062Z",
     "iopub.status.busy": "2022-10-08T20:35:07.252623Z",
     "iopub.status.idle": "2022-10-08T20:35:07.342535Z",
     "shell.execute_reply": "2022-10-08T20:35:07.341466Z"
    },
    "papermill": {
     "duration": 0.109549,
     "end_time": "2022-10-08T20:35:07.345386",
     "exception": false,
     "start_time": "2022-10-08T20:35:07.235837",
     "status": "completed"
    },
    "tags": []
   },
   "outputs": [],
   "source": [
    "Xy = pd.read_csv('/kaggle/input/home-data-for-ml-course/train.csv', index_col='Id')\n",
    "X_test = pd.read_csv('/kaggle/input/home-data-for-ml-course/test.csv', index_col='Id')"
   ]
  },
  {
   "cell_type": "markdown",
   "id": "b9093f65",
   "metadata": {
    "papermill": {
     "duration": 0.015354,
     "end_time": "2022-10-08T20:35:07.376308",
     "exception": false,
     "start_time": "2022-10-08T20:35:07.360954",
     "status": "completed"
    },
    "tags": []
   },
   "source": [
    "## Separate target from predictors"
   ]
  },
  {
   "cell_type": "code",
   "execution_count": 5,
   "id": "f9efbb1d",
   "metadata": {
    "_kg_hide-output": true,
    "execution": {
     "iopub.execute_input": "2022-10-08T20:35:07.410070Z",
     "iopub.status.busy": "2022-10-08T20:35:07.409175Z",
     "iopub.status.idle": "2022-10-08T20:35:07.423905Z",
     "shell.execute_reply": "2022-10-08T20:35:07.422974Z"
    },
    "papermill": {
     "duration": 0.034481,
     "end_time": "2022-10-08T20:35:07.426294",
     "exception": false,
     "start_time": "2022-10-08T20:35:07.391813",
     "status": "completed"
    },
    "tags": []
   },
   "outputs": [],
   "source": [
    "# First remove rows with missing target\n",
    "Xy = Xy.dropna(axis=0, subset=['SalePrice'])\n",
    "\n",
    "X = Xy.drop(['SalePrice'], axis=1)\n",
    "y = Xy.SalePrice"
   ]
  },
  {
   "cell_type": "markdown",
   "id": "114a90ff",
   "metadata": {
    "papermill": {
     "duration": 0.015005,
     "end_time": "2022-10-08T20:35:07.456991",
     "exception": false,
     "start_time": "2022-10-08T20:35:07.441986",
     "status": "completed"
    },
    "tags": []
   },
   "source": [
    "# 2) X, y Summary"
   ]
  },
  {
   "cell_type": "code",
   "execution_count": 6,
   "id": "dc2edfdc",
   "metadata": {
    "_kg_hide-output": true,
    "execution": {
     "iopub.execute_input": "2022-10-08T20:35:07.489586Z",
     "iopub.status.busy": "2022-10-08T20:35:07.489120Z",
     "iopub.status.idle": "2022-10-08T20:35:07.514189Z",
     "shell.execute_reply": "2022-10-08T20:35:07.513032Z"
    },
    "papermill": {
     "duration": 0.045203,
     "end_time": "2022-10-08T20:35:07.517395",
     "exception": false,
     "start_time": "2022-10-08T20:35:07.472192",
     "status": "completed"
    },
    "tags": []
   },
   "outputs": [
    {
     "name": "stdout",
     "output_type": "stream",
     "text": [
      "<class 'pandas.core.frame.DataFrame'>\n",
      "Int64Index: 1460 entries, 1 to 1460\n",
      "Data columns (total 79 columns):\n",
      " #   Column         Non-Null Count  Dtype  \n",
      "---  ------         --------------  -----  \n",
      " 0   MSSubClass     1460 non-null   int64  \n",
      " 1   MSZoning       1460 non-null   object \n",
      " 2   LotFrontage    1201 non-null   float64\n",
      " 3   LotArea        1460 non-null   int64  \n",
      " 4   Street         1460 non-null   object \n",
      " 5   Alley          91 non-null     object \n",
      " 6   LotShape       1460 non-null   object \n",
      " 7   LandContour    1460 non-null   object \n",
      " 8   Utilities      1460 non-null   object \n",
      " 9   LotConfig      1460 non-null   object \n",
      " 10  LandSlope      1460 non-null   object \n",
      " 11  Neighborhood   1460 non-null   object \n",
      " 12  Condition1     1460 non-null   object \n",
      " 13  Condition2     1460 non-null   object \n",
      " 14  BldgType       1460 non-null   object \n",
      " 15  HouseStyle     1460 non-null   object \n",
      " 16  OverallQual    1460 non-null   int64  \n",
      " 17  OverallCond    1460 non-null   int64  \n",
      " 18  YearBuilt      1460 non-null   int64  \n",
      " 19  YearRemodAdd   1460 non-null   int64  \n",
      " 20  RoofStyle      1460 non-null   object \n",
      " 21  RoofMatl       1460 non-null   object \n",
      " 22  Exterior1st    1460 non-null   object \n",
      " 23  Exterior2nd    1460 non-null   object \n",
      " 24  MasVnrType     1452 non-null   object \n",
      " 25  MasVnrArea     1452 non-null   float64\n",
      " 26  ExterQual      1460 non-null   object \n",
      " 27  ExterCond      1460 non-null   object \n",
      " 28  Foundation     1460 non-null   object \n",
      " 29  BsmtQual       1423 non-null   object \n",
      " 30  BsmtCond       1423 non-null   object \n",
      " 31  BsmtExposure   1422 non-null   object \n",
      " 32  BsmtFinType1   1423 non-null   object \n",
      " 33  BsmtFinSF1     1460 non-null   int64  \n",
      " 34  BsmtFinType2   1422 non-null   object \n",
      " 35  BsmtFinSF2     1460 non-null   int64  \n",
      " 36  BsmtUnfSF      1460 non-null   int64  \n",
      " 37  TotalBsmtSF    1460 non-null   int64  \n",
      " 38  Heating        1460 non-null   object \n",
      " 39  HeatingQC      1460 non-null   object \n",
      " 40  CentralAir     1460 non-null   object \n",
      " 41  Electrical     1459 non-null   object \n",
      " 42  1stFlrSF       1460 non-null   int64  \n",
      " 43  2ndFlrSF       1460 non-null   int64  \n",
      " 44  LowQualFinSF   1460 non-null   int64  \n",
      " 45  GrLivArea      1460 non-null   int64  \n",
      " 46  BsmtFullBath   1460 non-null   int64  \n",
      " 47  BsmtHalfBath   1460 non-null   int64  \n",
      " 48  FullBath       1460 non-null   int64  \n",
      " 49  HalfBath       1460 non-null   int64  \n",
      " 50  BedroomAbvGr   1460 non-null   int64  \n",
      " 51  KitchenAbvGr   1460 non-null   int64  \n",
      " 52  KitchenQual    1460 non-null   object \n",
      " 53  TotRmsAbvGrd   1460 non-null   int64  \n",
      " 54  Functional     1460 non-null   object \n",
      " 55  Fireplaces     1460 non-null   int64  \n",
      " 56  FireplaceQu    770 non-null    object \n",
      " 57  GarageType     1379 non-null   object \n",
      " 58  GarageYrBlt    1379 non-null   float64\n",
      " 59  GarageFinish   1379 non-null   object \n",
      " 60  GarageCars     1460 non-null   int64  \n",
      " 61  GarageArea     1460 non-null   int64  \n",
      " 62  GarageQual     1379 non-null   object \n",
      " 63  GarageCond     1379 non-null   object \n",
      " 64  PavedDrive     1460 non-null   object \n",
      " 65  WoodDeckSF     1460 non-null   int64  \n",
      " 66  OpenPorchSF    1460 non-null   int64  \n",
      " 67  EnclosedPorch  1460 non-null   int64  \n",
      " 68  3SsnPorch      1460 non-null   int64  \n",
      " 69  ScreenPorch    1460 non-null   int64  \n",
      " 70  PoolArea       1460 non-null   int64  \n",
      " 71  PoolQC         7 non-null      object \n",
      " 72  Fence          281 non-null    object \n",
      " 73  MiscFeature    54 non-null     object \n",
      " 74  MiscVal        1460 non-null   int64  \n",
      " 75  MoSold         1460 non-null   int64  \n",
      " 76  YrSold         1460 non-null   int64  \n",
      " 77  SaleType       1460 non-null   object \n",
      " 78  SaleCondition  1460 non-null   object \n",
      "dtypes: float64(3), int64(33), object(43)\n",
      "memory usage: 912.5+ KB\n"
     ]
    }
   ],
   "source": [
    "X.info()"
   ]
  },
  {
   "cell_type": "code",
   "execution_count": 7,
   "id": "c8b01f35",
   "metadata": {
    "execution": {
     "iopub.execute_input": "2022-10-08T20:35:07.552370Z",
     "iopub.status.busy": "2022-10-08T20:35:07.551616Z",
     "iopub.status.idle": "2022-10-08T20:35:07.561966Z",
     "shell.execute_reply": "2022-10-08T20:35:07.561073Z"
    },
    "papermill": {
     "duration": 0.029544,
     "end_time": "2022-10-08T20:35:07.564106",
     "exception": false,
     "start_time": "2022-10-08T20:35:07.534562",
     "status": "completed"
    },
    "tags": []
   },
   "outputs": [
    {
     "data": {
      "text/plain": [
       "object     43\n",
       "int64      33\n",
       "float64     3\n",
       "dtype: int64"
      ]
     },
     "execution_count": 7,
     "metadata": {},
     "output_type": "execute_result"
    }
   ],
   "source": [
    "X.dtypes.value_counts()"
   ]
  },
  {
   "cell_type": "code",
   "execution_count": 8,
   "id": "3d872419",
   "metadata": {
    "execution": {
     "iopub.execute_input": "2022-10-08T20:35:07.598662Z",
     "iopub.status.busy": "2022-10-08T20:35:07.597821Z",
     "iopub.status.idle": "2022-10-08T20:35:07.611394Z",
     "shell.execute_reply": "2022-10-08T20:35:07.610223Z"
    },
    "papermill": {
     "duration": 0.033579,
     "end_time": "2022-10-08T20:35:07.613846",
     "exception": false,
     "start_time": "2022-10-08T20:35:07.580267",
     "status": "completed"
    },
    "tags": []
   },
   "outputs": [
    {
     "data": {
      "text/plain": [
       "count      1460.000000\n",
       "mean     180921.195890\n",
       "std       79442.502883\n",
       "min       34900.000000\n",
       "25%      129975.000000\n",
       "50%      163000.000000\n",
       "75%      214000.000000\n",
       "max      755000.000000\n",
       "Name: SalePrice, dtype: float64"
      ]
     },
     "execution_count": 8,
     "metadata": {},
     "output_type": "execute_result"
    }
   ],
   "source": [
    "y.describe()"
   ]
  },
  {
   "cell_type": "code",
   "execution_count": 9,
   "id": "5999fd2e",
   "metadata": {
    "_kg_hide-input": false,
    "_kg_hide-output": false,
    "execution": {
     "iopub.execute_input": "2022-10-08T20:35:07.647949Z",
     "iopub.status.busy": "2022-10-08T20:35:07.647473Z",
     "iopub.status.idle": "2022-10-08T20:35:12.895974Z",
     "shell.execute_reply": "2022-10-08T20:35:12.894859Z"
    },
    "papermill": {
     "duration": 5.272817,
     "end_time": "2022-10-08T20:35:12.902598",
     "exception": false,
     "start_time": "2022-10-08T20:35:07.629781",
     "status": "completed"
    },
    "tags": []
   },
   "outputs": [
    {
     "data": {
      "image/png": "[encoded data removed]",
      "text/plain": [
       "<Figure size 2000x2000 with 2 Axes>"
      ]
     },
     "metadata": {
      "needs_background": "light"
     },
     "output_type": "display_data"
    }
   ],
   "source": [
    "plt.figure(figsize = (20,20),dpi=100)\n",
    "sns.heatmap(round(Xy.corr(),1),cmap='coolwarm',annot=True)\n",
    "plt.show()"
   ]
  },
  {
   "cell_type": "markdown",
   "id": "7fbe23e1",
   "metadata": {
    "papermill": {
     "duration": 0.020467,
     "end_time": "2022-10-08T20:35:12.943613",
     "exception": false,
     "start_time": "2022-10-08T20:35:12.923146",
     "status": "completed"
    },
    "tags": []
   },
   "source": [
    "# 3) Data Cleaning"
   ]
  },
  {
   "cell_type": "markdown",
   "id": "3599e567",
   "metadata": {
    "papermill": {
     "duration": 0.020272,
     "end_time": "2022-10-08T20:35:12.985268",
     "exception": false,
     "start_time": "2022-10-08T20:35:12.964996",
     "status": "completed"
    },
    "tags": []
   },
   "source": [
    "## Remove the columns with more than half missing values"
   ]
  },
  {
   "cell_type": "code",
   "execution_count": 10,
   "id": "005ac626",
   "metadata": {
    "_kg_hide-output": true,
    "execution": {
     "iopub.execute_input": "2022-10-08T20:35:13.029196Z",
     "iopub.status.busy": "2022-10-08T20:35:13.028567Z",
     "iopub.status.idle": "2022-10-08T20:35:13.040727Z",
     "shell.execute_reply": "2022-10-08T20:35:13.039929Z"
    },
    "papermill": {
     "duration": 0.03654,
     "end_time": "2022-10-08T20:35:13.042885",
     "exception": false,
     "start_time": "2022-10-08T20:35:13.006345",
     "status": "completed"
    },
    "tags": []
   },
   "outputs": [
    {
     "data": {
      "text/plain": [
       "Electrical         1\n",
       "MasVnrType         8\n",
       "MasVnrArea         8\n",
       "BsmtQual          37\n",
       "BsmtCond          37\n",
       "BsmtFinType1      37\n",
       "BsmtExposure      38\n",
       "BsmtFinType2      38\n",
       "GarageCond        81\n",
       "GarageQual        81\n",
       "GarageFinish      81\n",
       "GarageType        81\n",
       "GarageYrBlt       81\n",
       "LotFrontage      259\n",
       "FireplaceQu      690\n",
       "Fence           1179\n",
       "Alley           1369\n",
       "MiscFeature     1406\n",
       "PoolQC          1453\n",
       "dtype: int64"
      ]
     },
     "execution_count": 10,
     "metadata": {},
     "output_type": "execute_result"
    }
   ],
   "source": [
    "null_values = X.isnull().sum()\n",
    "null_values[null_values>0].sort_values()"
   ]
  },
  {
   "cell_type": "code",
   "execution_count": 11,
   "id": "e0c8b382",
   "metadata": {
    "execution": {
     "iopub.execute_input": "2022-10-08T20:35:13.086976Z",
     "iopub.status.busy": "2022-10-08T20:35:13.086322Z",
     "iopub.status.idle": "2022-10-08T20:35:13.092538Z",
     "shell.execute_reply": "2022-10-08T20:35:13.091774Z"
    },
    "papermill": {
     "duration": 0.030725,
     "end_time": "2022-10-08T20:35:13.094669",
     "exception": false,
     "start_time": "2022-10-08T20:35:13.063944",
     "status": "completed"
    },
    "tags": []
   },
   "outputs": [
    {
     "data": {
      "text/plain": [
       "6965"
      ]
     },
     "execution_count": 11,
     "metadata": {},
     "output_type": "execute_result"
    }
   ],
   "source": [
    "null_values.sum()"
   ]
  },
  {
   "cell_type": "code",
   "execution_count": 12,
   "id": "44a6d7ba",
   "metadata": {
    "execution": {
     "iopub.execute_input": "2022-10-08T20:35:13.139271Z",
     "iopub.status.busy": "2022-10-08T20:35:13.138333Z",
     "iopub.status.idle": "2022-10-08T20:35:13.163618Z",
     "shell.execute_reply": "2022-10-08T20:35:13.162457Z"
    },
    "papermill": {
     "duration": 0.050295,
     "end_time": "2022-10-08T20:35:13.166041",
     "exception": false,
     "start_time": "2022-10-08T20:35:13.115746",
     "status": "completed"
    },
    "tags": []
   },
   "outputs": [
    {
     "data": {
      "text/plain": [
       "['Alley', 'PoolQC', 'Fence', 'MiscFeature']"
      ]
     },
     "execution_count": 12,
     "metadata": {},
     "output_type": "execute_result"
    }
   ],
   "source": [
    "# Columns with missing values more than half of the number of rows\n",
    "null_col = [col for col in X.columns if X[col].isnull().sum() > len(X)/2]\n",
    "null_col"
   ]
  },
  {
   "cell_type": "code",
   "execution_count": 13,
   "id": "e6af2ddf",
   "metadata": {
    "execution": {
     "iopub.execute_input": "2022-10-08T20:35:13.210466Z",
     "iopub.status.busy": "2022-10-08T20:35:13.209762Z",
     "iopub.status.idle": "2022-10-08T20:35:13.219398Z",
     "shell.execute_reply": "2022-10-08T20:35:13.218422Z"
    },
    "papermill": {
     "duration": 0.035011,
     "end_time": "2022-10-08T20:35:13.221899",
     "exception": false,
     "start_time": "2022-10-08T20:35:13.186888",
     "status": "completed"
    },
    "tags": []
   },
   "outputs": [],
   "source": [
    "X.drop(null_col,axis=1,inplace=True)\n",
    "X_test.drop(null_col,axis=1,inplace=True)"
   ]
  },
  {
   "cell_type": "code",
   "execution_count": 14,
   "id": "f768c8e4",
   "metadata": {
    "execution": {
     "iopub.execute_input": "2022-10-08T20:35:13.266597Z",
     "iopub.status.busy": "2022-10-08T20:35:13.266143Z",
     "iopub.status.idle": "2022-10-08T20:35:13.278758Z",
     "shell.execute_reply": "2022-10-08T20:35:13.277681Z"
    },
    "papermill": {
     "duration": 0.037772,
     "end_time": "2022-10-08T20:35:13.281034",
     "exception": false,
     "start_time": "2022-10-08T20:35:13.243262",
     "status": "completed"
    },
    "tags": []
   },
   "outputs": [
    {
     "data": {
      "text/plain": [
       "1558"
      ]
     },
     "execution_count": 14,
     "metadata": {},
     "output_type": "execute_result"
    }
   ],
   "source": [
    "# Total null values after removing columns with more than half missing values\n",
    "X.isnull().sum().sum()"
   ]
  },
  {
   "cell_type": "markdown",
   "id": "8a7ea0e6",
   "metadata": {
    "papermill": {
     "duration": 0.020636,
     "end_time": "2022-10-08T20:35:13.323201",
     "exception": false,
     "start_time": "2022-10-08T20:35:13.302565",
     "status": "completed"
    },
    "tags": []
   },
   "source": [
    "# 4) Feature Engineering"
   ]
  },
  {
   "cell_type": "markdown",
   "id": "22ca9c96",
   "metadata": {
    "papermill": {
     "duration": 0.020637,
     "end_time": "2022-10-08T20:35:13.364751",
     "exception": false,
     "start_time": "2022-10-08T20:35:13.344114",
     "status": "completed"
    },
    "tags": []
   },
   "source": [
    "## 4.1) Boolean Columns"
   ]
  },
  {
   "cell_type": "markdown",
   "id": "7766975c",
   "metadata": {
    "papermill": {
     "duration": 0.020207,
     "end_time": "2022-10-08T20:35:13.405524",
     "exception": false,
     "start_time": "2022-10-08T20:35:13.385317",
     "status": "completed"
    },
    "tags": []
   },
   "source": [
    "## Adding features 'Garage', 'Fireplace' and 'Bsmt'"
   ]
  },
  {
   "cell_type": "markdown",
   "id": "1071eef4",
   "metadata": {
    "papermill": {
     "duration": 0.020333,
     "end_time": "2022-10-08T20:35:13.446803",
     "exception": false,
     "start_time": "2022-10-08T20:35:13.426470",
     "status": "completed"
    },
    "tags": []
   },
   "source": [
    "Garage column: Boolean\n",
    "* False (for 81 rows having missing values in columns GarageType, GarageYrBlt, GarageFinish, GarageQual, GarageCond)\n",
    "* True (for all others rows)"
   ]
  },
  {
   "cell_type": "code",
   "execution_count": 15,
   "id": "f78515cb",
   "metadata": {
    "execution": {
     "iopub.execute_input": "2022-10-08T20:35:13.490519Z",
     "iopub.status.busy": "2022-10-08T20:35:13.489707Z",
     "iopub.status.idle": "2022-10-08T20:35:13.496776Z",
     "shell.execute_reply": "2022-10-08T20:35:13.495866Z"
    },
    "papermill": {
     "duration": 0.031599,
     "end_time": "2022-10-08T20:35:13.498928",
     "exception": false,
     "start_time": "2022-10-08T20:35:13.467329",
     "status": "completed"
    },
    "tags": []
   },
   "outputs": [],
   "source": [
    "X['Garage'] = X['GarageQual'].notnull()\n",
    "X_test['Garage'] = X_test['GarageQual'].notnull()"
   ]
  },
  {
   "cell_type": "markdown",
   "id": "81f4e994",
   "metadata": {
    "papermill": {
     "duration": 0.02029,
     "end_time": "2022-10-08T20:35:13.540063",
     "exception": false,
     "start_time": "2022-10-08T20:35:13.519773",
     "status": "completed"
    },
    "tags": []
   },
   "source": [
    "Fireplace column: Binary Categorical\n",
    "* False (for 690 rows having missing values in column FireplaceQu)\n",
    "* True (for all others rows)"
   ]
  },
  {
   "cell_type": "code",
   "execution_count": 16,
   "id": "76487a6c",
   "metadata": {
    "execution": {
     "iopub.execute_input": "2022-10-08T20:35:13.583843Z",
     "iopub.status.busy": "2022-10-08T20:35:13.583020Z",
     "iopub.status.idle": "2022-10-08T20:35:13.589760Z",
     "shell.execute_reply": "2022-10-08T20:35:13.588937Z"
    },
    "papermill": {
     "duration": 0.030924,
     "end_time": "2022-10-08T20:35:13.591761",
     "exception": false,
     "start_time": "2022-10-08T20:35:13.560837",
     "status": "completed"
    },
    "tags": []
   },
   "outputs": [],
   "source": [
    "X['Fireplace'] = X['FireplaceQu'].notnull()\n",
    "X_test['Fireplace'] = X_test['FireplaceQu'].notnull()"
   ]
  },
  {
   "cell_type": "markdown",
   "id": "d51c09b0",
   "metadata": {
    "papermill": {
     "duration": 0.020316,
     "end_time": "2022-10-08T20:35:13.632775",
     "exception": false,
     "start_time": "2022-10-08T20:35:13.612459",
     "status": "completed"
    },
    "tags": []
   },
   "source": [
    "Basement column: Binary Categorical\n",
    "* False (for 37 rows having missing values in columns BsmtQual, BsmtCond, BsmtExposure, BsmtFinType1, BsmtFinType2)\n",
    "* True (for all others rows)"
   ]
  },
  {
   "cell_type": "code",
   "execution_count": 17,
   "id": "2376e8c8",
   "metadata": {
    "execution": {
     "iopub.execute_input": "2022-10-08T20:35:13.676857Z",
     "iopub.status.busy": "2022-10-08T20:35:13.676078Z",
     "iopub.status.idle": "2022-10-08T20:35:13.683040Z",
     "shell.execute_reply": "2022-10-08T20:35:13.681997Z"
    },
    "papermill": {
     "duration": 0.031418,
     "end_time": "2022-10-08T20:35:13.685244",
     "exception": false,
     "start_time": "2022-10-08T20:35:13.653826",
     "status": "completed"
    },
    "tags": []
   },
   "outputs": [],
   "source": [
    "X['Bsmt'] = X['BsmtQual'].notnull()\n",
    "X_test['Bsmt'] = X_test['BsmtQual'].notnull()"
   ]
  },
  {
   "cell_type": "code",
   "execution_count": 18,
   "id": "cafed9fb",
   "metadata": {
    "execution": {
     "iopub.execute_input": "2022-10-08T20:35:13.729262Z",
     "iopub.status.busy": "2022-10-08T20:35:13.728533Z",
     "iopub.status.idle": "2022-10-08T20:35:13.736266Z",
     "shell.execute_reply": "2022-10-08T20:35:13.735488Z"
    },
    "papermill": {
     "duration": 0.031898,
     "end_time": "2022-10-08T20:35:13.738295",
     "exception": false,
     "start_time": "2022-10-08T20:35:13.706397",
     "status": "completed"
    },
    "tags": []
   },
   "outputs": [
    {
     "data": {
      "text/plain": [
       "object     39\n",
       "int64      33\n",
       "float64     3\n",
       "bool        3\n",
       "dtype: int64"
      ]
     },
     "execution_count": 18,
     "metadata": {},
     "output_type": "execute_result"
    }
   ],
   "source": [
    "X.dtypes.value_counts()"
   ]
  },
  {
   "cell_type": "markdown",
   "id": "e60aa349",
   "metadata": {
    "papermill": {
     "duration": 0.020557,
     "end_time": "2022-10-08T20:35:13.779888",
     "exception": false,
     "start_time": "2022-10-08T20:35:13.759331",
     "status": "completed"
    },
    "tags": []
   },
   "source": [
    "## Making boolean into numerical data"
   ]
  },
  {
   "cell_type": "code",
   "execution_count": 19,
   "id": "95ee2522",
   "metadata": {
    "execution": {
     "iopub.execute_input": "2022-10-08T20:35:13.824116Z",
     "iopub.status.busy": "2022-10-08T20:35:13.823384Z",
     "iopub.status.idle": "2022-10-08T20:35:13.837604Z",
     "shell.execute_reply": "2022-10-08T20:35:13.836592Z"
    },
    "papermill": {
     "duration": 0.038796,
     "end_time": "2022-10-08T20:35:13.839845",
     "exception": false,
     "start_time": "2022-10-08T20:35:13.801049",
     "status": "completed"
    },
    "tags": []
   },
   "outputs": [
    {
     "data": {
      "text/plain": [
       "Garage       2\n",
       "Fireplace    2\n",
       "Bsmt         2\n",
       "dtype: int64"
      ]
     },
     "execution_count": 19,
     "metadata": {},
     "output_type": "execute_result"
    }
   ],
   "source": [
    "bool_cols = X.select_dtypes(include=['bool']).columns\n",
    "X[bool_cols].nunique()"
   ]
  },
  {
   "cell_type": "code",
   "execution_count": 20,
   "id": "a35c6c55",
   "metadata": {
    "execution": {
     "iopub.execute_input": "2022-10-08T20:35:13.884936Z",
     "iopub.status.busy": "2022-10-08T20:35:13.883860Z",
     "iopub.status.idle": "2022-10-08T20:35:13.904815Z",
     "shell.execute_reply": "2022-10-08T20:35:13.903652Z"
    },
    "papermill": {
     "duration": 0.046186,
     "end_time": "2022-10-08T20:35:13.907606",
     "exception": false,
     "start_time": "2022-10-08T20:35:13.861420",
     "status": "completed"
    },
    "tags": []
   },
   "outputs": [],
   "source": [
    "X.loc[:,bool_cols] = X.loc[:,bool_cols].replace([False,True], [0,1])\n",
    "X_test.loc[:,bool_cols] = X_test.loc[:,bool_cols].replace([False,True], [0,1])"
   ]
  },
  {
   "cell_type": "code",
   "execution_count": 21,
   "id": "255132be",
   "metadata": {
    "execution": {
     "iopub.execute_input": "2022-10-08T20:35:13.953186Z",
     "iopub.status.busy": "2022-10-08T20:35:13.952279Z",
     "iopub.status.idle": "2022-10-08T20:35:13.971380Z",
     "shell.execute_reply": "2022-10-08T20:35:13.969957Z"
    },
    "papermill": {
     "duration": 0.045006,
     "end_time": "2022-10-08T20:35:13.974081",
     "exception": false,
     "start_time": "2022-10-08T20:35:13.929075",
     "status": "completed"
    },
    "tags": []
   },
   "outputs": [
    {
     "data": {
      "text/html": [
       "<div>\n",
       "<style scoped>\n",
       "    .dataframe tbody tr th:only-of-type {\n",
       "        vertical-align: middle;\n",
       "    }\n",
       "\n",
       "    .dataframe tbody tr th {\n",
       "        vertical-align: top;\n",
       "    }\n",
       "\n",
       "    .dataframe thead th {\n",
       "        text-align: right;\n",
       "    }\n",
       "</style>\n",
       "<table border=\"1\" class=\"dataframe\">\n",
       "  <thead>\n",
       "    <tr style=\"text-align: right;\">\n",
       "      <th></th>\n",
       "      <th>Garage</th>\n",
       "      <th>Fireplace</th>\n",
       "      <th>Bsmt</th>\n",
       "    </tr>\n",
       "    <tr>\n",
       "      <th>Id</th>\n",
       "      <th></th>\n",
       "      <th></th>\n",
       "      <th></th>\n",
       "    </tr>\n",
       "  </thead>\n",
       "  <tbody>\n",
       "    <tr>\n",
       "      <th>1</th>\n",
       "      <td>1</td>\n",
       "      <td>0</td>\n",
       "      <td>1</td>\n",
       "    </tr>\n",
       "    <tr>\n",
       "      <th>2</th>\n",
       "      <td>1</td>\n",
       "      <td>1</td>\n",
       "      <td>1</td>\n",
       "    </tr>\n",
       "  </tbody>\n",
       "</table>\n",
       "</div>"
      ],
      "text/plain": [
       "    Garage  Fireplace  Bsmt\n",
       "Id                         \n",
       "1        1          0     1\n",
       "2        1          1     1"
      ]
     },
     "execution_count": 21,
     "metadata": {},
     "output_type": "execute_result"
    }
   ],
   "source": [
    "X.loc[:,bool_cols].head(2)"
   ]
  },
  {
   "cell_type": "markdown",
   "id": "34796c52",
   "metadata": {
    "papermill": {
     "duration": 0.021243,
     "end_time": "2022-10-08T20:35:14.018519",
     "exception": false,
     "start_time": "2022-10-08T20:35:13.997276",
     "status": "completed"
    },
    "tags": []
   },
   "source": [
    "## 4.2) Ordered Categorical Columns"
   ]
  },
  {
   "cell_type": "markdown",
   "id": "a3cf53ba",
   "metadata": {
    "papermill": {
     "duration": 0.020892,
     "end_time": "2022-10-08T20:35:14.060691",
     "exception": false,
     "start_time": "2022-10-08T20:35:14.039799",
     "status": "completed"
    },
    "tags": []
   },
   "source": [
    "## Casting object datatype to ordinal datatype (i.e. ordered category)"
   ]
  },
  {
   "cell_type": "code",
   "execution_count": 22,
   "id": "1386dad0",
   "metadata": {
    "_kg_hide-output": true,
    "execution": {
     "iopub.execute_input": "2022-10-08T20:35:14.105378Z",
     "iopub.status.busy": "2022-10-08T20:35:14.104533Z",
     "iopub.status.idle": "2022-10-08T20:35:14.126002Z",
     "shell.execute_reply": "2022-10-08T20:35:14.124708Z"
    },
    "papermill": {
     "duration": 0.046419,
     "end_time": "2022-10-08T20:35:14.128301",
     "exception": false,
     "start_time": "2022-10-08T20:35:14.081882",
     "status": "completed"
    },
    "tags": []
   },
   "outputs": [
    {
     "data": {
      "text/plain": [
       "Street            2\n",
       "CentralAir        2\n",
       "Utilities         2\n",
       "GarageFinish      3\n",
       "LandSlope         3\n",
       "PavedDrive        3\n",
       "BsmtQual          4\n",
       "ExterQual         4\n",
       "MasVnrType        4\n",
       "KitchenQual       4\n",
       "BsmtCond          4\n",
       "BsmtExposure      4\n",
       "LandContour       4\n",
       "LotShape          4\n",
       "HeatingQC         5\n",
       "FireplaceQu       5\n",
       "GarageQual        5\n",
       "Electrical        5\n",
       "GarageCond        5\n",
       "LotConfig         5\n",
       "ExterCond         5\n",
       "BldgType          5\n",
       "MSZoning          5\n",
       "GarageType        6\n",
       "Heating           6\n",
       "Foundation        6\n",
       "BsmtFinType1      6\n",
       "RoofStyle         6\n",
       "BsmtFinType2      6\n",
       "SaleCondition     6\n",
       "Functional        7\n",
       "RoofMatl          8\n",
       "HouseStyle        8\n",
       "Condition2        8\n",
       "SaleType          9\n",
       "Condition1        9\n",
       "Exterior1st      15\n",
       "Exterior2nd      16\n",
       "Neighborhood     25\n",
       "dtype: int64"
      ]
     },
     "execution_count": 22,
     "metadata": {},
     "output_type": "execute_result"
    }
   ],
   "source": [
    "object_cols = X.select_dtypes(include=['object']).columns\n",
    "X[object_cols].nunique().sort_values()"
   ]
  },
  {
   "cell_type": "code",
   "execution_count": 23,
   "id": "e0477bd8",
   "metadata": {
    "execution": {
     "iopub.execute_input": "2022-10-08T20:35:14.172455Z",
     "iopub.status.busy": "2022-10-08T20:35:14.171989Z",
     "iopub.status.idle": "2022-10-08T20:35:14.185133Z",
     "shell.execute_reply": "2022-10-08T20:35:14.184072Z"
    },
    "papermill": {
     "duration": 0.037687,
     "end_time": "2022-10-08T20:35:14.187291",
     "exception": false,
     "start_time": "2022-10-08T20:35:14.149604",
     "status": "completed"
    },
    "tags": []
   },
   "outputs": [
    {
     "data": {
      "text/plain": [
       "{'ExterQual': ['Gd', 'TA', 'Ex', 'Fa'],\n",
       " 'ExterCond': ['TA', 'Gd', 'Fa', 'Po', 'Ex'],\n",
       " 'BsmtQual': ['Gd', 'TA', 'Ex', nan, 'Fa'],\n",
       " 'BsmtCond': ['TA', 'Gd', nan, 'Fa', 'Po'],\n",
       " 'BsmtFinType1': ['GLQ', 'ALQ', 'Unf', 'Rec', 'BLQ', nan, 'LwQ'],\n",
       " 'BsmtFinType2': ['Unf', 'BLQ', nan, 'ALQ', 'Rec', 'LwQ', 'GLQ'],\n",
       " 'HeatingQC': ['Ex', 'Gd', 'TA', 'Fa', 'Po'],\n",
       " 'KitchenQual': ['Gd', 'TA', 'Ex', 'Fa'],\n",
       " 'FireplaceQu': [nan, 'TA', 'Gd', 'Fa', 'Ex', 'Po'],\n",
       " 'GarageFinish': ['RFn', 'Unf', 'Fin', nan],\n",
       " 'GarageQual': ['TA', 'Fa', 'Gd', nan, 'Ex', 'Po'],\n",
       " 'GarageCond': ['TA', 'Fa', nan, 'Gd', 'Po', 'Ex']}"
      ]
     },
     "execution_count": 23,
     "metadata": {},
     "output_type": "execute_result"
    }
   ],
   "source": [
    "ordinal_cols = [i for i in object_cols if ('QC' in i) or ('Qu' in i) or ('Fin' in i) or ('Cond' in i) and ('Condition' not in i)]\n",
    "{col:[*X[col].unique()] for col in ordinal_cols}"
   ]
  },
  {
   "cell_type": "markdown",
   "id": "63ac42c1",
   "metadata": {
    "papermill": {
     "duration": 0.022367,
     "end_time": "2022-10-08T20:35:14.231820",
     "exception": false,
     "start_time": "2022-10-08T20:35:14.209453",
     "status": "completed"
    },
    "tags": []
   },
   "source": [
    "### 1] Columns with categorical order"
   ]
  },
  {
   "cell_type": "code",
   "execution_count": 24,
   "id": "984d102c",
   "metadata": {
    "execution": {
     "iopub.execute_input": "2022-10-08T20:35:14.277539Z",
     "iopub.status.busy": "2022-10-08T20:35:14.276631Z",
     "iopub.status.idle": "2022-10-08T20:35:14.283942Z",
     "shell.execute_reply": "2022-10-08T20:35:14.282445Z"
    },
    "papermill": {
     "duration": 0.033942,
     "end_time": "2022-10-08T20:35:14.287259",
     "exception": false,
     "start_time": "2022-10-08T20:35:14.253317",
     "status": "completed"
    },
    "tags": []
   },
   "outputs": [
    {
     "name": "stdout",
     "output_type": "stream",
     "text": [
      "ExterQual, ExterCond, BsmtQual, BsmtCond, HeatingQC, KitchenQual, FireplaceQu, GarageQual, GarageCond\n"
     ]
    }
   ],
   "source": [
    "ordinal_cols1 = [i for i in ordinal_cols if ('Fin' not in i)]\n",
    "print(*ordinal_cols1, sep=', ')"
   ]
  },
  {
   "cell_type": "code",
   "execution_count": 25,
   "id": "34ce37cc",
   "metadata": {
    "execution": {
     "iopub.execute_input": "2022-10-08T20:35:14.334156Z",
     "iopub.status.busy": "2022-10-08T20:35:14.333039Z",
     "iopub.status.idle": "2022-10-08T20:35:14.378034Z",
     "shell.execute_reply": "2022-10-08T20:35:14.377095Z"
    },
    "papermill": {
     "duration": 0.070799,
     "end_time": "2022-10-08T20:35:14.380535",
     "exception": false,
     "start_time": "2022-10-08T20:35:14.309736",
     "status": "completed"
    },
    "tags": []
   },
   "outputs": [],
   "source": [
    "X.loc[:,ordinal_cols1] = X.loc[:,ordinal_cols1].fillna('NA')\n",
    "cat_type1 = CategoricalDtype(categories=['NA', 'Po', 'Fa', 'TA', 'Gd', 'Ex'], ordered=True)\n",
    "X.loc[:,ordinal_cols1] = X.loc[:,ordinal_cols1].astype(cat_type1)\n",
    "X_test.loc[:,ordinal_cols1] = X_test.loc[:,ordinal_cols1].astype(cat_type1)"
   ]
  },
  {
   "cell_type": "markdown",
   "id": "41eaa042",
   "metadata": {
    "papermill": {
     "duration": 0.021014,
     "end_time": "2022-10-08T20:35:14.423018",
     "exception": false,
     "start_time": "2022-10-08T20:35:14.402004",
     "status": "completed"
    },
    "tags": []
   },
   "source": [
    "### 2] Columns with categorical order"
   ]
  },
  {
   "cell_type": "code",
   "execution_count": 26,
   "id": "8bb92e04",
   "metadata": {
    "execution": {
     "iopub.execute_input": "2022-10-08T20:35:14.467573Z",
     "iopub.status.busy": "2022-10-08T20:35:14.466845Z",
     "iopub.status.idle": "2022-10-08T20:35:14.473088Z",
     "shell.execute_reply": "2022-10-08T20:35:14.471829Z"
    },
    "papermill": {
     "duration": 0.031387,
     "end_time": "2022-10-08T20:35:14.475437",
     "exception": false,
     "start_time": "2022-10-08T20:35:14.444050",
     "status": "completed"
    },
    "tags": []
   },
   "outputs": [
    {
     "name": "stdout",
     "output_type": "stream",
     "text": [
      "BsmtFinType1, BsmtFinType2, GarageFinish\n"
     ]
    }
   ],
   "source": [
    "ordinal_cols2 = [i for i in ordinal_cols if ('Fin' in i)]\n",
    "print(*ordinal_cols2, sep=', ')"
   ]
  },
  {
   "cell_type": "code",
   "execution_count": 27,
   "id": "97a655c9",
   "metadata": {
    "execution": {
     "iopub.execute_input": "2022-10-08T20:35:14.519929Z",
     "iopub.status.busy": "2022-10-08T20:35:14.519522Z",
     "iopub.status.idle": "2022-10-08T20:35:14.544126Z",
     "shell.execute_reply": "2022-10-08T20:35:14.542822Z"
    },
    "papermill": {
     "duration": 0.049825,
     "end_time": "2022-10-08T20:35:14.546694",
     "exception": false,
     "start_time": "2022-10-08T20:35:14.496869",
     "status": "completed"
    },
    "tags": []
   },
   "outputs": [],
   "source": [
    "X.loc[:,ordinal_cols2] = X.loc[:,ordinal_cols2].fillna('NA')\n",
    "cat_type2 = CategoricalDtype(categories=['NA', 'Unf', 'RFn', 'Fin', 'LwQ', 'Rec', 'BLQ', 'ALQ', 'GLQ'], ordered=True)\n",
    "X.loc[:,ordinal_cols2] = X.loc[:,ordinal_cols2].astype(cat_type2)\n",
    "X_test.loc[:,ordinal_cols2] = X_test.loc[:,ordinal_cols2].astype(cat_type2)"
   ]
  },
  {
   "cell_type": "markdown",
   "id": "827a0d5c",
   "metadata": {
    "papermill": {
     "duration": 0.021068,
     "end_time": "2022-10-08T20:35:14.589444",
     "exception": false,
     "start_time": "2022-10-08T20:35:14.568376",
     "status": "completed"
    },
    "tags": []
   },
   "source": [
    "## Making ordered categories into numerical data"
   ]
  },
  {
   "cell_type": "code",
   "execution_count": 28,
   "id": "003f8f51",
   "metadata": {
    "execution": {
     "iopub.execute_input": "2022-10-08T20:35:14.635256Z",
     "iopub.status.busy": "2022-10-08T20:35:14.634776Z",
     "iopub.status.idle": "2022-10-08T20:35:14.677436Z",
     "shell.execute_reply": "2022-10-08T20:35:14.676537Z"
    },
    "papermill": {
     "duration": 0.069266,
     "end_time": "2022-10-08T20:35:14.680071",
     "exception": false,
     "start_time": "2022-10-08T20:35:14.610805",
     "status": "completed"
    },
    "tags": []
   },
   "outputs": [],
   "source": [
    "X.loc[:,ordinal_cols1] = X.loc[:,ordinal_cols1].replace(['NA', 'Po', 'Fa', 'TA', 'Gd', 'Ex'], [0,1,2,3,4,5])\n",
    "X.loc[:,ordinal_cols2] = X.loc[:,ordinal_cols2].replace(['NA', 'Unf', 'RFn', 'Fin', 'LwQ', 'Rec', 'BLQ', 'ALQ', 'GLQ'], list(range(9)))"
   ]
  },
  {
   "cell_type": "code",
   "execution_count": 29,
   "id": "8a82c79a",
   "metadata": {
    "execution": {
     "iopub.execute_input": "2022-10-08T20:35:14.726245Z",
     "iopub.status.busy": "2022-10-08T20:35:14.725757Z",
     "iopub.status.idle": "2022-10-08T20:35:14.766663Z",
     "shell.execute_reply": "2022-10-08T20:35:14.765562Z"
    },
    "papermill": {
     "duration": 0.067641,
     "end_time": "2022-10-08T20:35:14.769439",
     "exception": false,
     "start_time": "2022-10-08T20:35:14.701798",
     "status": "completed"
    },
    "tags": []
   },
   "outputs": [],
   "source": [
    "# Test data\n",
    "X_test.loc[:,ordinal_cols1] = X_test.loc[:,ordinal_cols1].replace(['NA', 'Po', 'Fa', 'TA', 'Gd', 'Ex'],[0,1,2,3,4,5])\n",
    "X_test.loc[:,ordinal_cols2] = X_test.loc[:,ordinal_cols2].replace(['NA', 'Unf', 'RFn', 'Fin', 'LwQ', 'Rec', 'BLQ', 'ALQ', 'GLQ'],list(range(9)))"
   ]
  },
  {
   "cell_type": "markdown",
   "id": "7e8f2976",
   "metadata": {
    "papermill": {
     "duration": 0.021643,
     "end_time": "2022-10-08T20:35:14.813309",
     "exception": false,
     "start_time": "2022-10-08T20:35:14.791666",
     "status": "completed"
    },
    "tags": []
   },
   "source": [
    "# 6) Feature Selection"
   ]
  },
  {
   "cell_type": "markdown",
   "id": "dbc08e90",
   "metadata": {
    "papermill": {
     "duration": 0.021063,
     "end_time": "2022-10-08T20:35:14.856149",
     "exception": false,
     "start_time": "2022-10-08T20:35:14.835086",
     "status": "completed"
    },
    "tags": []
   },
   "source": [
    "## Correlation of X with y"
   ]
  },
  {
   "cell_type": "code",
   "execution_count": 30,
   "id": "1a69cc87",
   "metadata": {
    "execution": {
     "iopub.execute_input": "2022-10-08T20:35:14.901471Z",
     "iopub.status.busy": "2022-10-08T20:35:14.901046Z",
     "iopub.status.idle": "2022-10-08T20:35:14.929432Z",
     "shell.execute_reply": "2022-10-08T20:35:14.928348Z"
    },
    "papermill": {
     "duration": 0.053785,
     "end_time": "2022-10-08T20:35:14.931545",
     "exception": false,
     "start_time": "2022-10-08T20:35:14.877760",
     "status": "completed"
    },
    "tags": []
   },
   "outputs": [
    {
     "data": {
      "text/html": [
       "<div>\n",
       "<style scoped>\n",
       "    .dataframe tbody tr th:only-of-type {\n",
       "        vertical-align: middle;\n",
       "    }\n",
       "\n",
       "    .dataframe tbody tr th {\n",
       "        vertical-align: top;\n",
       "    }\n",
       "\n",
       "    .dataframe thead th {\n",
       "        text-align: right;\n",
       "    }\n",
       "</style>\n",
       "<table border=\"1\" class=\"dataframe\">\n",
       "  <thead>\n",
       "    <tr style=\"text-align: right;\">\n",
       "      <th></th>\n",
       "      <th>MSSubClass</th>\n",
       "      <th>MSZoning</th>\n",
       "      <th>LotFrontage</th>\n",
       "      <th>LotArea</th>\n",
       "      <th>Street</th>\n",
       "      <th>LotShape</th>\n",
       "      <th>LandContour</th>\n",
       "      <th>Utilities</th>\n",
       "      <th>LotConfig</th>\n",
       "      <th>LandSlope</th>\n",
       "      <th>...</th>\n",
       "      <th>PoolArea</th>\n",
       "      <th>MiscVal</th>\n",
       "      <th>MoSold</th>\n",
       "      <th>YrSold</th>\n",
       "      <th>SaleType</th>\n",
       "      <th>SaleCondition</th>\n",
       "      <th>Garage</th>\n",
       "      <th>Fireplace</th>\n",
       "      <th>Bsmt</th>\n",
       "      <th>SalesPrice</th>\n",
       "    </tr>\n",
       "    <tr>\n",
       "      <th>Id</th>\n",
       "      <th></th>\n",
       "      <th></th>\n",
       "      <th></th>\n",
       "      <th></th>\n",
       "      <th></th>\n",
       "      <th></th>\n",
       "      <th></th>\n",
       "      <th></th>\n",
       "      <th></th>\n",
       "      <th></th>\n",
       "      <th></th>\n",
       "      <th></th>\n",
       "      <th></th>\n",
       "      <th></th>\n",
       "      <th></th>\n",
       "      <th></th>\n",
       "      <th></th>\n",
       "      <th></th>\n",
       "      <th></th>\n",
       "      <th></th>\n",
       "      <th></th>\n",
       "    </tr>\n",
       "  </thead>\n",
       "  <tbody>\n",
       "    <tr>\n",
       "      <th>1</th>\n",
       "      <td>60</td>\n",
       "      <td>RL</td>\n",
       "      <td>65.0</td>\n",
       "      <td>8450</td>\n",
       "      <td>Pave</td>\n",
       "      <td>Reg</td>\n",
       "      <td>Lvl</td>\n",
       "      <td>AllPub</td>\n",
       "      <td>Inside</td>\n",
       "      <td>Gtl</td>\n",
       "      <td>...</td>\n",
       "      <td>0</td>\n",
       "      <td>0</td>\n",
       "      <td>2</td>\n",
       "      <td>2008</td>\n",
       "      <td>WD</td>\n",
       "      <td>Normal</td>\n",
       "      <td>1</td>\n",
       "      <td>0</td>\n",
       "      <td>1</td>\n",
       "      <td>208500</td>\n",
       "    </tr>\n",
       "    <tr>\n",
       "      <th>2</th>\n",
       "      <td>20</td>\n",
       "      <td>RL</td>\n",
       "      <td>80.0</td>\n",
       "      <td>9600</td>\n",
       "      <td>Pave</td>\n",
       "      <td>Reg</td>\n",
       "      <td>Lvl</td>\n",
       "      <td>AllPub</td>\n",
       "      <td>FR2</td>\n",
       "      <td>Gtl</td>\n",
       "      <td>...</td>\n",
       "      <td>0</td>\n",
       "      <td>0</td>\n",
       "      <td>5</td>\n",
       "      <td>2007</td>\n",
       "      <td>WD</td>\n",
       "      <td>Normal</td>\n",
       "      <td>1</td>\n",
       "      <td>1</td>\n",
       "      <td>1</td>\n",
       "      <td>181500</td>\n",
       "    </tr>\n",
       "  </tbody>\n",
       "</table>\n",
       "<p>2 rows × 79 columns</p>\n",
       "</div>"
      ],
      "text/plain": [
       "    MSSubClass MSZoning  LotFrontage  LotArea Street LotShape LandContour  \\\n",
       "Id                                                                          \n",
       "1           60       RL         65.0     8450   Pave      Reg         Lvl   \n",
       "2           20       RL         80.0     9600   Pave      Reg         Lvl   \n",
       "\n",
       "   Utilities LotConfig LandSlope  ... PoolArea MiscVal MoSold YrSold SaleType  \\\n",
       "Id                                ...                                           \n",
       "1     AllPub    Inside       Gtl  ...        0       0      2   2008       WD   \n",
       "2     AllPub       FR2       Gtl  ...        0       0      5   2007       WD   \n",
       "\n",
       "    SaleCondition  Garage  Fireplace  Bsmt SalesPrice  \n",
       "Id                                                     \n",
       "1          Normal       1          0     1     208500  \n",
       "2          Normal       1          1     1     181500  \n",
       "\n",
       "[2 rows x 79 columns]"
      ]
     },
     "execution_count": 30,
     "metadata": {},
     "output_type": "execute_result"
    }
   ],
   "source": [
    "X_y = X.copy()\n",
    "X_y['SalesPrice'] = y\n",
    "X_y.head(2)"
   ]
  },
  {
   "cell_type": "code",
   "execution_count": 31,
   "id": "b3b7a6bb",
   "metadata": {
    "execution": {
     "iopub.execute_input": "2022-10-08T20:35:14.978318Z",
     "iopub.status.busy": "2022-10-08T20:35:14.977880Z",
     "iopub.status.idle": "2022-10-08T20:35:15.002810Z",
     "shell.execute_reply": "2022-10-08T20:35:15.001952Z"
    },
    "papermill": {
     "duration": 0.050873,
     "end_time": "2022-10-08T20:35:15.004869",
     "exception": false,
     "start_time": "2022-10-08T20:35:14.953996",
     "status": "completed"
    },
    "tags": []
   },
   "outputs": [
    {
     "data": {
      "text/plain": [
       "KitchenAbvGr    -0.14\n",
       "EnclosedPorch   -0.13\n",
       "MSSubClass      -0.08\n",
       "OverallCond     -0.08\n",
       "YrSold          -0.03\n",
       "BsmtFinType2    -0.03\n",
       "LowQualFinSF    -0.03\n",
       "MiscVal         -0.02\n",
       "BsmtHalfBath    -0.02\n",
       "BsmtFinSF2      -0.01\n",
       "ExterCond        0.02\n",
       "3SsnPorch        0.04\n",
       "MoSold           0.05\n",
       "PoolArea         0.09\n",
       "ScreenPorch      0.11\n",
       "Bsmt             0.15\n",
       "BedroomAbvGr     0.17\n",
       "BsmtCond         0.21\n",
       "BsmtUnfSF        0.21\n",
       "BsmtFullBath     0.23\n",
       "Garage           0.24\n",
       "BsmtFinType1     0.26\n",
       "GarageCond       0.26\n",
       "LotArea          0.26\n",
       "GarageQual       0.27\n",
       "HalfBath         0.28\n",
       "OpenPorchSF      0.32\n",
       "2ndFlrSF         0.32\n",
       "WoodDeckSF       0.32\n",
       "LotFrontage      0.35\n",
       "BsmtFinSF1       0.39\n",
       "HeatingQC        0.43\n",
       "Fireplaces       0.47\n",
       "Fireplace        0.47\n",
       "MasVnrArea       0.48\n",
       "GarageYrBlt      0.49\n",
       "YearRemodAdd     0.51\n",
       "FireplaceQu      0.52\n",
       "YearBuilt        0.52\n",
       "TotRmsAbvGrd     0.53\n",
       "GarageFinish     0.55\n",
       "FullBath         0.56\n",
       "BsmtQual         0.59\n",
       "1stFlrSF         0.61\n",
       "TotalBsmtSF      0.61\n",
       "GarageArea       0.62\n",
       "GarageCars       0.64\n",
       "KitchenQual      0.66\n",
       "ExterQual        0.68\n",
       "GrLivArea        0.71\n",
       "OverallQual      0.79\n",
       "SalesPrice       1.00\n",
       "Name: SalesPrice, dtype: float64"
      ]
     },
     "execution_count": 31,
     "metadata": {},
     "output_type": "execute_result"
    }
   ],
   "source": [
    "corr = X_y.corr()\n",
    "corr_with_price = corr['SalesPrice'].sort_values()\n",
    "round(corr_with_price,2)"
   ]
  },
  {
   "cell_type": "code",
   "execution_count": 32,
   "id": "7ba85923",
   "metadata": {
    "execution": {
     "iopub.execute_input": "2022-10-08T20:35:15.051948Z",
     "iopub.status.busy": "2022-10-08T20:35:15.051531Z",
     "iopub.status.idle": "2022-10-08T20:35:15.060540Z",
     "shell.execute_reply": "2022-10-08T20:35:15.059508Z"
    },
    "papermill": {
     "duration": 0.035621,
     "end_time": "2022-10-08T20:35:15.062780",
     "exception": false,
     "start_time": "2022-10-08T20:35:15.027159",
     "status": "completed"
    },
    "tags": []
   },
   "outputs": [
    {
     "data": {
      "text/plain": [
       "int64      48\n",
       "object     27\n",
       "float64     3\n",
       "dtype: int64"
      ]
     },
     "execution_count": 32,
     "metadata": {},
     "output_type": "execute_result"
    }
   ],
   "source": [
    "X.dtypes.value_counts()"
   ]
  },
  {
   "cell_type": "code",
   "execution_count": 33,
   "id": "74e3f6a9",
   "metadata": {
    "execution": {
     "iopub.execute_input": "2022-10-08T20:35:15.109682Z",
     "iopub.status.busy": "2022-10-08T20:35:15.109187Z",
     "iopub.status.idle": "2022-10-08T20:35:15.132017Z",
     "shell.execute_reply": "2022-10-08T20:35:15.130825Z"
    },
    "papermill": {
     "duration": 0.048895,
     "end_time": "2022-10-08T20:35:15.134579",
     "exception": false,
     "start_time": "2022-10-08T20:35:15.085684",
     "status": "completed"
    },
    "tags": []
   },
   "outputs": [],
   "source": [
    "# Categorical columns with low cardinality (number of unique values in a column)\n",
    "categorical_cols = [cname for cname in X.columns if \n",
    "                    X[cname].dtype in [\"object\",\"category\",\"bool\"] and\n",
    "                    X[cname].nunique() < 8]\n",
    "#MISTAKE TO AVOID: its bool (not boolean)\n",
    "\n",
    "# Numerical columns\n",
    "numerical_cols = [cname for cname in X.columns if \n",
    "                X[cname].dtype in ['int64', 'float64'] and\n",
    "                corr_with_price[cname] > 0.25]\n",
    "\n",
    "# Keep selected columns only\n",
    "my_cols = categorical_cols + numerical_cols\n",
    "X = X[my_cols]\n",
    "X_test = X_test[my_cols]"
   ]
  },
  {
   "cell_type": "code",
   "execution_count": 34,
   "id": "348e3bf0",
   "metadata": {
    "execution": {
     "iopub.execute_input": "2022-10-08T20:35:15.180964Z",
     "iopub.status.busy": "2022-10-08T20:35:15.180512Z",
     "iopub.status.idle": "2022-10-08T20:35:15.186656Z",
     "shell.execute_reply": "2022-10-08T20:35:15.185352Z"
    },
    "papermill": {
     "duration": 0.032459,
     "end_time": "2022-10-08T20:35:15.189320",
     "exception": false,
     "start_time": "2022-10-08T20:35:15.156861",
     "status": "completed"
    },
    "tags": []
   },
   "outputs": [
    {
     "name": "stdout",
     "output_type": "stream",
     "text": [
      "19 30\n"
     ]
    }
   ],
   "source": [
    "print(len(categorical_cols),len(numerical_cols))"
   ]
  },
  {
   "cell_type": "code",
   "execution_count": 35,
   "id": "5f426ae0",
   "metadata": {
    "execution": {
     "iopub.execute_input": "2022-10-08T20:35:15.236752Z",
     "iopub.status.busy": "2022-10-08T20:35:15.236309Z",
     "iopub.status.idle": "2022-10-08T20:35:15.245388Z",
     "shell.execute_reply": "2022-10-08T20:35:15.244271Z"
    },
    "papermill": {
     "duration": 0.035398,
     "end_time": "2022-10-08T20:35:15.247878",
     "exception": false,
     "start_time": "2022-10-08T20:35:15.212480",
     "status": "completed"
    },
    "tags": []
   },
   "outputs": [
    {
     "data": {
      "text/plain": [
       "int64      27\n",
       "object     19\n",
       "float64     3\n",
       "dtype: int64"
      ]
     },
     "execution_count": 35,
     "metadata": {},
     "output_type": "execute_result"
    }
   ],
   "source": [
    "# Final features on which Model will be trained\n",
    "X.dtypes.value_counts()"
   ]
  },
  {
   "cell_type": "code",
   "execution_count": 36,
   "id": "2e4dbbc3",
   "metadata": {
    "_kg_hide-output": true,
    "execution": {
     "iopub.execute_input": "2022-10-08T20:35:15.296657Z",
     "iopub.status.busy": "2022-10-08T20:35:15.295782Z",
     "iopub.status.idle": "2022-10-08T20:35:15.314625Z",
     "shell.execute_reply": "2022-10-08T20:35:15.313366Z"
    },
    "papermill": {
     "duration": 0.046412,
     "end_time": "2022-10-08T20:35:15.317804",
     "exception": false,
     "start_time": "2022-10-08T20:35:15.271392",
     "status": "completed"
    },
    "tags": []
   },
   "outputs": [
    {
     "name": "stdout",
     "output_type": "stream",
     "text": [
      "<class 'pandas.core.frame.DataFrame'>\n",
      "Int64Index: 1460 entries, 1 to 1460\n",
      "Data columns (total 49 columns):\n",
      " #   Column         Non-Null Count  Dtype  \n",
      "---  ------         --------------  -----  \n",
      " 0   MSZoning       1460 non-null   object \n",
      " 1   Street         1460 non-null   object \n",
      " 2   LotShape       1460 non-null   object \n",
      " 3   LandContour    1460 non-null   object \n",
      " 4   Utilities      1460 non-null   object \n",
      " 5   LotConfig      1460 non-null   object \n",
      " 6   LandSlope      1460 non-null   object \n",
      " 7   BldgType       1460 non-null   object \n",
      " 8   RoofStyle      1460 non-null   object \n",
      " 9   MasVnrType     1452 non-null   object \n",
      " 10  Foundation     1460 non-null   object \n",
      " 11  BsmtExposure   1422 non-null   object \n",
      " 12  Heating        1460 non-null   object \n",
      " 13  CentralAir     1460 non-null   object \n",
      " 14  Electrical     1459 non-null   object \n",
      " 15  Functional     1460 non-null   object \n",
      " 16  GarageType     1379 non-null   object \n",
      " 17  PavedDrive     1460 non-null   object \n",
      " 18  SaleCondition  1460 non-null   object \n",
      " 19  LotFrontage    1201 non-null   float64\n",
      " 20  LotArea        1460 non-null   int64  \n",
      " 21  OverallQual    1460 non-null   int64  \n",
      " 22  YearBuilt      1460 non-null   int64  \n",
      " 23  YearRemodAdd   1460 non-null   int64  \n",
      " 24  MasVnrArea     1452 non-null   float64\n",
      " 25  ExterQual      1460 non-null   int64  \n",
      " 26  BsmtQual       1460 non-null   int64  \n",
      " 27  BsmtFinType1   1460 non-null   int64  \n",
      " 28  BsmtFinSF1     1460 non-null   int64  \n",
      " 29  TotalBsmtSF    1460 non-null   int64  \n",
      " 30  HeatingQC      1460 non-null   int64  \n",
      " 31  1stFlrSF       1460 non-null   int64  \n",
      " 32  2ndFlrSF       1460 non-null   int64  \n",
      " 33  GrLivArea      1460 non-null   int64  \n",
      " 34  FullBath       1460 non-null   int64  \n",
      " 35  HalfBath       1460 non-null   int64  \n",
      " 36  KitchenQual    1460 non-null   int64  \n",
      " 37  TotRmsAbvGrd   1460 non-null   int64  \n",
      " 38  Fireplaces     1460 non-null   int64  \n",
      " 39  FireplaceQu    1460 non-null   int64  \n",
      " 40  GarageYrBlt    1379 non-null   float64\n",
      " 41  GarageFinish   1460 non-null   int64  \n",
      " 42  GarageCars     1460 non-null   int64  \n",
      " 43  GarageArea     1460 non-null   int64  \n",
      " 44  GarageQual     1460 non-null   int64  \n",
      " 45  GarageCond     1460 non-null   int64  \n",
      " 46  WoodDeckSF     1460 non-null   int64  \n",
      " 47  OpenPorchSF    1460 non-null   int64  \n",
      " 48  Fireplace      1460 non-null   int64  \n",
      "dtypes: float64(3), int64(27), object(19)\n",
      "memory usage: 570.3+ KB\n"
     ]
    }
   ],
   "source": [
    "X.info()"
   ]
  },
  {
   "cell_type": "markdown",
   "id": "717b8672",
   "metadata": {
    "papermill": {
     "duration": 0.022844,
     "end_time": "2022-10-08T20:35:15.364576",
     "exception": false,
     "start_time": "2022-10-08T20:35:15.341732",
     "status": "completed"
    },
    "tags": []
   },
   "source": [
    "# 7) Model Creation"
   ]
  },
  {
   "cell_type": "markdown",
   "id": "15843143",
   "metadata": {
    "papermill": {
     "duration": 0.022604,
     "end_time": "2022-10-08T20:35:15.410126",
     "exception": false,
     "start_time": "2022-10-08T20:35:15.387522",
     "status": "completed"
    },
    "tags": []
   },
   "source": [
    "## Preprocessing"
   ]
  },
  {
   "cell_type": "code",
   "execution_count": 37,
   "id": "7664779f",
   "metadata": {
    "execution": {
     "iopub.execute_input": "2022-10-08T20:35:15.457408Z",
     "iopub.status.busy": "2022-10-08T20:35:15.456969Z",
     "iopub.status.idle": "2022-10-08T20:35:15.463745Z",
     "shell.execute_reply": "2022-10-08T20:35:15.462649Z"
    },
    "papermill": {
     "duration": 0.032935,
     "end_time": "2022-10-08T20:35:15.465883",
     "exception": false,
     "start_time": "2022-10-08T20:35:15.432948",
     "status": "completed"
    },
    "tags": []
   },
   "outputs": [],
   "source": [
    "# Preprocessing for numerical data\n",
    "numerical_transformer = SimpleImputer(strategy='median')\n",
    "\n",
    "# Preprocessing for categorical data\n",
    "categorical_transformer = Pipeline(steps=[\n",
    "    ('imputer', SimpleImputer(strategy='most_frequent')),\n",
    "    ('onehot', OneHotEncoder(handle_unknown='ignore'))\n",
    "])\n",
    "\n",
    "# Bundle preprocessing for numerical and categorical data\n",
    "preprocessor = ColumnTransformer(\n",
    "    transformers=[\n",
    "        ('num', numerical_transformer, numerical_cols),\n",
    "        ('cat', categorical_transformer, categorical_cols)\n",
    "    ])"
   ]
  },
  {
   "cell_type": "code",
   "execution_count": 38,
   "id": "6fe8b4fc",
   "metadata": {
    "execution": {
     "iopub.execute_input": "2022-10-08T20:35:15.514252Z",
     "iopub.status.busy": "2022-10-08T20:35:15.513094Z",
     "iopub.status.idle": "2022-10-08T20:35:15.519258Z",
     "shell.execute_reply": "2022-10-08T20:35:15.518256Z"
    },
    "papermill": {
     "duration": 0.032713,
     "end_time": "2022-10-08T20:35:15.521347",
     "exception": false,
     "start_time": "2022-10-08T20:35:15.488634",
     "status": "completed"
    },
    "tags": []
   },
   "outputs": [],
   "source": [
    "# Create object of class XGBRegressor\n",
    "xgb = XGBRegressor(seed=20)\n",
    "\n",
    "# Bundle preprocessing and modeling code in a pipeline\n",
    "regressor = Pipeline(steps=[('preprocessor', preprocessor),\n",
    "                      ('model', xgb)\n",
    "                     ])"
   ]
  },
  {
   "cell_type": "markdown",
   "id": "47f00fdd",
   "metadata": {
    "papermill": {
     "duration": 0.022729,
     "end_time": "2022-10-08T20:35:15.566903",
     "exception": false,
     "start_time": "2022-10-08T20:35:15.544174",
     "status": "completed"
    },
    "tags": []
   },
   "source": [
    "## Visualize Pipeline"
   ]
  },
  {
   "cell_type": "code",
   "execution_count": 39,
   "id": "7b831ffb",
   "metadata": {
    "execution": {
     "iopub.execute_input": "2022-10-08T20:35:15.614678Z",
     "iopub.status.busy": "2022-10-08T20:35:15.614213Z",
     "iopub.status.idle": "2022-10-08T20:35:15.679522Z",
     "shell.execute_reply": "2022-10-08T20:35:15.678436Z"
    },
    "papermill": {
     "duration": 0.091984,
     "end_time": "2022-10-08T20:35:15.681905",
     "exception": false,
     "start_time": "2022-10-08T20:35:15.589921",
     "status": "completed"
    },
    "tags": []
   },
   "outputs": [
    {
     "data": {
      "text/html": [
       "<style>#sk-c60d7ffc-9521-4d4f-8d71-0d17e16ee30a {color: black;background-color: white;}#sk-c60d7ffc-9521-4d4f-8d71-0d17e16ee30a pre{padding: 0;}#sk-c60d7ffc-9521-4d4f-8d71-0d17e16ee30a div.sk-toggleable {background-color: white;}#sk-c60d7ffc-9521-4d4f-8d71-0d17e16ee30a label.sk-toggleable__label {cursor: pointer;display: block;width: 100%;margin-bottom: 0;padding: 0.3em;box-sizing: border-box;text-align: center;}#sk-c60d7ffc-9521-4d4f-8d71-0d17e16ee30a label.sk-toggleable__label-arrow:before {content: \"▸\";float: left;margin-right: 0.25em;color: #696969;}#sk-c60d7ffc-9521-4d4f-8d71-0d17e16ee30a label.sk-toggleable__label-arrow:hover:before {color: black;}#sk-c60d7ffc-9521-4d4f-8d71-0d17e16ee30a div.sk-estimator:hover label.sk-toggleable__label-arrow:before {color: black;}#sk-c60d7ffc-9521-4d4f-8d71-0d17e16ee30a div.sk-toggleable__content {max-height: 0;max-width: 0;overflow: hidden;text-align: left;background-color: #f0f8ff;}#sk-c60d7ffc-9521-4d4f-8d71-0d17e16ee30a div.sk-toggleable__content pre {margin: 0.2em;color: black;border-radius: 0.25em;background-color: #f0f8ff;}#sk-c60d7ffc-9521-4d4f-8d71-0d17e16ee30a input.sk-toggleable__control:checked~div.sk-toggleable__content {max-height: 200px;max-width: 100%;overflow: auto;}#sk-c60d7ffc-9521-4d4f-8d71-0d17e16ee30a input.sk-toggleable__control:checked~label.sk-toggleable__label-arrow:before {content: \"▾\";}#sk-c60d7ffc-9521-4d4f-8d71-0d17e16ee30a div.sk-estimator input.sk-toggleable__control:checked~label.sk-toggleable__label {background-color: #d4ebff;}#sk-c60d7ffc-9521-4d4f-8d71-0d17e16ee30a div.sk-label input.sk-toggleable__control:checked~label.sk-toggleable__label {background-color: #d4ebff;}#sk-c60d7ffc-9521-4d4f-8d71-0d17e16ee30a input.sk-hidden--visually {border: 0;clip: rect(1px 1px 1px 1px);clip: rect(1px, 1px, 1px, 1px);height: 1px;margin: -1px;overflow: hidden;padding: 0;position: absolute;width: 1px;}#sk-c60d7ffc-9521-4d4f-8d71-0d17e16ee30a div.sk-estimator {font-family: monospace;background-color: #f0f8ff;border: 1px dotted black;border-radius: 0.25em;box-sizing: border-box;margin-bottom: 0.5em;}#sk-c60d7ffc-9521-4d4f-8d71-0d17e16ee30a div.sk-estimator:hover {background-color: #d4ebff;}#sk-c60d7ffc-9521-4d4f-8d71-0d17e16ee30a div.sk-parallel-item::after {content: \"\";width: 100%;border-bottom: 1px solid gray;flex-grow: 1;}#sk-c60d7ffc-9521-4d4f-8d71-0d17e16ee30a div.sk-label:hover label.sk-toggleable__label {background-color: #d4ebff;}#sk-c60d7ffc-9521-4d4f-8d71-0d17e16ee30a div.sk-serial::before {content: \"\";position: absolute;border-left: 1px solid gray;box-sizing: border-box;top: 2em;bottom: 0;left: 50%;}#sk-c60d7ffc-9521-4d4f-8d71-0d17e16ee30a div.sk-serial {display: flex;flex-direction: column;align-items: center;background-color: white;padding-right: 0.2em;padding-left: 0.2em;}#sk-c60d7ffc-9521-4d4f-8d71-0d17e16ee30a div.sk-item {z-index: 1;}#sk-c60d7ffc-9521-4d4f-8d71-0d17e16ee30a div.sk-parallel {display: flex;align-items: stretch;justify-content: center;background-color: white;}#sk-c60d7ffc-9521-4d4f-8d71-0d17e16ee30a div.sk-parallel::before {content: \"\";position: absolute;border-left: 1px solid gray;box-sizing: border-box;top: 2em;bottom: 0;left: 50%;}#sk-c60d7ffc-9521-4d4f-8d71-0d17e16ee30a div.sk-parallel-item {display: flex;flex-direction: column;position: relative;background-color: white;}#sk-c60d7ffc-9521-4d4f-8d71-0d17e16ee30a div.sk-parallel-item:first-child::after {align-self: flex-end;width: 50%;}#sk-c60d7ffc-9521-4d4f-8d71-0d17e16ee30a div.sk-parallel-item:last-child::after {align-self: flex-start;width: 50%;}#sk-c60d7ffc-9521-4d4f-8d71-0d17e16ee30a div.sk-parallel-item:only-child::after {width: 0;}#sk-c60d7ffc-9521-4d4f-8d71-0d17e16ee30a div.sk-dashed-wrapped {border: 1px dashed gray;margin: 0 0.4em 0.5em 0.4em;box-sizing: border-box;padding-bottom: 0.4em;background-color: white;position: relative;}#sk-c60d7ffc-9521-4d4f-8d71-0d17e16ee30a div.sk-label label {font-family: monospace;font-weight: bold;background-color: white;display: inline-block;line-height: 1.2em;}#sk-c60d7ffc-9521-4d4f-8d71-0d17e16ee30a div.sk-label-container {position: relative;z-index: 2;text-align: center;}#sk-c60d7ffc-9521-4d4f-8d71-0d17e16ee30a div.sk-container {/* jupyter's `normalize.less` sets `[hidden] { display: none; }` but bootstrap.min.css set `[hidden] { display: none !important; }` so we also need the `!important` here to be able to override the default hidden behavior on the sphinx rendered scikit-learn.org. See: https://github.com/scikit-learn/scikit-learn/issues/21755 */display: inline-block !important;position: relative;}#sk-c60d7ffc-9521-4d4f-8d71-0d17e16ee30a div.sk-text-repr-fallback {display: none;}</style><div id=\"sk-c60d7ffc-9521-4d4f-8d71-0d17e16ee30a\" class=\"sk-top-container\"><div class=\"sk-text-repr-fallback\"><pre>Pipeline(steps=[(&#x27;preprocessor&#x27;,\n",
       "                 ColumnTransformer(transformers=[(&#x27;num&#x27;,\n",
       "                                                  SimpleImputer(strategy=&#x27;median&#x27;),\n",
       "                                                  [&#x27;LotFrontage&#x27;, &#x27;LotArea&#x27;,\n",
       "                                                   &#x27;OverallQual&#x27;, &#x27;YearBuilt&#x27;,\n",
       "                                                   &#x27;YearRemodAdd&#x27;, &#x27;MasVnrArea&#x27;,\n",
       "                                                   &#x27;ExterQual&#x27;, &#x27;BsmtQual&#x27;,\n",
       "                                                   &#x27;BsmtFinType1&#x27;, &#x27;BsmtFinSF1&#x27;,\n",
       "                                                   &#x27;TotalBsmtSF&#x27;, &#x27;HeatingQC&#x27;,\n",
       "                                                   &#x27;1stFlrSF&#x27;, &#x27;2ndFlrSF&#x27;,\n",
       "                                                   &#x27;GrLivArea&#x27;, &#x27;FullBath&#x27;,\n",
       "                                                   &#x27;HalfBath&#x27;, &#x27;KitchenQual&#x27;,\n",
       "                                                   &#x27;TotRmsAbvGrd&#x27;, &#x27;Fire...\n",
       "                              gamma=None, gpu_id=None, grow_policy=None,\n",
       "                              importance_type=None,\n",
       "                              interaction_constraints=None, learning_rate=None,\n",
       "                              max_bin=None, max_cat_to_onehot=None,\n",
       "                              max_delta_step=None, max_depth=None,\n",
       "                              max_leaves=None, min_child_weight=None,\n",
       "                              missing=nan, monotone_constraints=None,\n",
       "                              n_estimators=100, n_jobs=None,\n",
       "                              num_parallel_tree=None, predictor=None,\n",
       "                              random_state=None, reg_alpha=None,\n",
       "                              reg_lambda=None, ...))])</pre><b>Please rerun this cell to show the HTML repr or trust the notebook.</b></div><div class=\"sk-container\" hidden><div class=\"sk-item sk-dashed-wrapped\"><div class=\"sk-label-container\"><div class=\"sk-label sk-toggleable\"><input class=\"sk-toggleable__control sk-hidden--visually\" id=\"250d87f7-4a10-42ad-8928-6762d03f469a\" type=\"checkbox\" ><label for=\"250d87f7-4a10-42ad-8928-6762d03f469a\" class=\"sk-toggleable__label sk-toggleable__label-arrow\">Pipeline</label><div class=\"sk-toggleable__content\"><pre>Pipeline(steps=[(&#x27;preprocessor&#x27;,\n",
       "                 ColumnTransformer(transformers=[(&#x27;num&#x27;,\n",
       "                                                  SimpleImputer(strategy=&#x27;median&#x27;),\n",
       "                                                  [&#x27;LotFrontage&#x27;, &#x27;LotArea&#x27;,\n",
       "                                                   &#x27;OverallQual&#x27;, &#x27;YearBuilt&#x27;,\n",
       "                                                   &#x27;YearRemodAdd&#x27;, &#x27;MasVnrArea&#x27;,\n",
       "                                                   &#x27;ExterQual&#x27;, &#x27;BsmtQual&#x27;,\n",
       "                                                   &#x27;BsmtFinType1&#x27;, &#x27;BsmtFinSF1&#x27;,\n",
       "                                                   &#x27;TotalBsmtSF&#x27;, &#x27;HeatingQC&#x27;,\n",
       "                                                   &#x27;1stFlrSF&#x27;, &#x27;2ndFlrSF&#x27;,\n",
       "                                                   &#x27;GrLivArea&#x27;, &#x27;FullBath&#x27;,\n",
       "                                                   &#x27;HalfBath&#x27;, &#x27;KitchenQual&#x27;,\n",
       "                                                   &#x27;TotRmsAbvGrd&#x27;, &#x27;Fire...\n",
       "                              gamma=None, gpu_id=None, grow_policy=None,\n",
       "                              importance_type=None,\n",
       "                              interaction_constraints=None, learning_rate=None,\n",
       "                              max_bin=None, max_cat_to_onehot=None,\n",
       "                              max_delta_step=None, max_depth=None,\n",
       "                              max_leaves=None, min_child_weight=None,\n",
       "                              missing=nan, monotone_constraints=None,\n",
       "                              n_estimators=100, n_jobs=None,\n",
       "                              num_parallel_tree=None, predictor=None,\n",
       "                              random_state=None, reg_alpha=None,\n",
       "                              reg_lambda=None, ...))])</pre></div></div></div><div class=\"sk-serial\"><div class=\"sk-item sk-dashed-wrapped\"><div class=\"sk-label-container\"><div class=\"sk-label sk-toggleable\"><input class=\"sk-toggleable__control sk-hidden--visually\" id=\"da246662-1823-4517-b002-8ccb58281f3a\" type=\"checkbox\" ><label for=\"da246662-1823-4517-b002-8ccb58281f3a\" class=\"sk-toggleable__label sk-toggleable__label-arrow\">preprocessor: ColumnTransformer</label><div class=\"sk-toggleable__content\"><pre>ColumnTransformer(transformers=[(&#x27;num&#x27;, SimpleImputer(strategy=&#x27;median&#x27;),\n",
       "                                 [&#x27;LotFrontage&#x27;, &#x27;LotArea&#x27;, &#x27;OverallQual&#x27;,\n",
       "                                  &#x27;YearBuilt&#x27;, &#x27;YearRemodAdd&#x27;, &#x27;MasVnrArea&#x27;,\n",
       "                                  &#x27;ExterQual&#x27;, &#x27;BsmtQual&#x27;, &#x27;BsmtFinType1&#x27;,\n",
       "                                  &#x27;BsmtFinSF1&#x27;, &#x27;TotalBsmtSF&#x27;, &#x27;HeatingQC&#x27;,\n",
       "                                  &#x27;1stFlrSF&#x27;, &#x27;2ndFlrSF&#x27;, &#x27;GrLivArea&#x27;,\n",
       "                                  &#x27;FullBath&#x27;, &#x27;HalfBath&#x27;, &#x27;KitchenQual&#x27;,\n",
       "                                  &#x27;TotRmsAbvGrd&#x27;, &#x27;Fireplaces&#x27;, &#x27;FireplaceQu&#x27;,\n",
       "                                  &#x27;GarageYrB...\n",
       "                                 Pipeline(steps=[(&#x27;imputer&#x27;,\n",
       "                                                  SimpleImputer(strategy=&#x27;most_frequent&#x27;)),\n",
       "                                                 (&#x27;onehot&#x27;,\n",
       "                                                  OneHotEncoder(handle_unknown=&#x27;ignore&#x27;))]),\n",
       "                                 [&#x27;MSZoning&#x27;, &#x27;Street&#x27;, &#x27;LotShape&#x27;,\n",
       "                                  &#x27;LandContour&#x27;, &#x27;Utilities&#x27;, &#x27;LotConfig&#x27;,\n",
       "                                  &#x27;LandSlope&#x27;, &#x27;BldgType&#x27;, &#x27;RoofStyle&#x27;,\n",
       "                                  &#x27;MasVnrType&#x27;, &#x27;Foundation&#x27;, &#x27;BsmtExposure&#x27;,\n",
       "                                  &#x27;Heating&#x27;, &#x27;CentralAir&#x27;, &#x27;Electrical&#x27;,\n",
       "                                  &#x27;Functional&#x27;, &#x27;GarageType&#x27;, &#x27;PavedDrive&#x27;,\n",
       "                                  &#x27;SaleCondition&#x27;])])</pre></div></div></div><div class=\"sk-parallel\"><div class=\"sk-parallel-item\"><div class=\"sk-item\"><div class=\"sk-label-container\"><div class=\"sk-label sk-toggleable\"><input class=\"sk-toggleable__control sk-hidden--visually\" id=\"567ed0cc-87f9-44f2-9201-aeba7a01830f\" type=\"checkbox\" ><label for=\"567ed0cc-87f9-44f2-9201-aeba7a01830f\" class=\"sk-toggleable__label sk-toggleable__label-arrow\">num</label><div class=\"sk-toggleable__content\"><pre>[&#x27;LotFrontage&#x27;, &#x27;LotArea&#x27;, &#x27;OverallQual&#x27;, &#x27;YearBuilt&#x27;, &#x27;YearRemodAdd&#x27;, &#x27;MasVnrArea&#x27;, &#x27;ExterQual&#x27;, &#x27;BsmtQual&#x27;, &#x27;BsmtFinType1&#x27;, &#x27;BsmtFinSF1&#x27;, &#x27;TotalBsmtSF&#x27;, &#x27;HeatingQC&#x27;, &#x27;1stFlrSF&#x27;, &#x27;2ndFlrSF&#x27;, &#x27;GrLivArea&#x27;, &#x27;FullBath&#x27;, &#x27;HalfBath&#x27;, &#x27;KitchenQual&#x27;, &#x27;TotRmsAbvGrd&#x27;, &#x27;Fireplaces&#x27;, &#x27;FireplaceQu&#x27;, &#x27;GarageYrBlt&#x27;, &#x27;GarageFinish&#x27;, &#x27;GarageCars&#x27;, &#x27;GarageArea&#x27;, &#x27;GarageQual&#x27;, &#x27;GarageCond&#x27;, &#x27;WoodDeckSF&#x27;, &#x27;OpenPorchSF&#x27;, &#x27;Fireplace&#x27;]</pre></div></div></div><div class=\"sk-serial\"><div class=\"sk-item\"><div class=\"sk-estimator sk-toggleable\"><input class=\"sk-toggleable__control sk-hidden--visually\" id=\"a3463c74-080a-47b0-ba06-b00338c72f83\" type=\"checkbox\" ><label for=\"a3463c74-080a-47b0-ba06-b00338c72f83\" class=\"sk-toggleable__label sk-toggleable__label-arrow\">SimpleImputer</label><div class=\"sk-toggleable__content\"><pre>SimpleImputer(strategy=&#x27;median&#x27;)</pre></div></div></div></div></div></div><div class=\"sk-parallel-item\"><div class=\"sk-item\"><div class=\"sk-label-container\"><div class=\"sk-label sk-toggleable\"><input class=\"sk-toggleable__control sk-hidden--visually\" id=\"b1f04a44-7fe4-4142-b0cc-fcd7c9f7ab8c\" type=\"checkbox\" ><label for=\"b1f04a44-7fe4-4142-b0cc-fcd7c9f7ab8c\" class=\"sk-toggleable__label sk-toggleable__label-arrow\">cat</label><div class=\"sk-toggleable__content\"><pre>[&#x27;MSZoning&#x27;, &#x27;Street&#x27;, &#x27;LotShape&#x27;, &#x27;LandContour&#x27;, &#x27;Utilities&#x27;, &#x27;LotConfig&#x27;, &#x27;LandSlope&#x27;, &#x27;BldgType&#x27;, &#x27;RoofStyle&#x27;, &#x27;MasVnrType&#x27;, &#x27;Foundation&#x27;, &#x27;BsmtExposure&#x27;, &#x27;Heating&#x27;, &#x27;CentralAir&#x27;, &#x27;Electrical&#x27;, &#x27;Functional&#x27;, &#x27;GarageType&#x27;, &#x27;PavedDrive&#x27;, &#x27;SaleCondition&#x27;]</pre></div></div></div><div class=\"sk-serial\"><div class=\"sk-item\"><div class=\"sk-serial\"><div class=\"sk-item\"><div class=\"sk-estimator sk-toggleable\"><input class=\"sk-toggleable__control sk-hidden--visually\" id=\"d1cb1b79-565c-4e71-8bfa-16efb045d0c2\" type=\"checkbox\" ><label for=\"d1cb1b79-565c-4e71-8bfa-16efb045d0c2\" class=\"sk-toggleable__label sk-toggleable__label-arrow\">SimpleImputer</label><div class=\"sk-toggleable__content\"><pre>SimpleImputer(strategy=&#x27;most_frequent&#x27;)</pre></div></div></div><div class=\"sk-item\"><div class=\"sk-estimator sk-toggleable\"><input class=\"sk-toggleable__control sk-hidden--visually\" id=\"a32d37b7-9b2e-48ba-bd40-ddf71a45841c\" type=\"checkbox\" ><label for=\"a32d37b7-9b2e-48ba-bd40-ddf71a45841c\" class=\"sk-toggleable__label sk-toggleable__label-arrow\">OneHotEncoder</label><div class=\"sk-toggleable__content\"><pre>OneHotEncoder(handle_unknown=&#x27;ignore&#x27;)</pre></div></div></div></div></div></div></div></div></div></div><div class=\"sk-item\"><div class=\"sk-estimator sk-toggleable\"><input class=\"sk-toggleable__control sk-hidden--visually\" id=\"db3647ac-460f-4aa3-bf30-f0a12a713223\" type=\"checkbox\" ><label for=\"db3647ac-460f-4aa3-bf30-f0a12a713223\" class=\"sk-toggleable__label sk-toggleable__label-arrow\">XGBRegressor</label><div class=\"sk-toggleable__content\"><pre>XGBRegressor(base_score=None, booster=None, callbacks=None,\n",
       "             colsample_bylevel=None, colsample_bynode=None,\n",
       "             colsample_bytree=None, early_stopping_rounds=None,\n",
       "             enable_categorical=False, eval_metric=None, gamma=None,\n",
       "             gpu_id=None, grow_policy=None, importance_type=None,\n",
       "             interaction_constraints=None, learning_rate=None, max_bin=None,\n",
       "             max_cat_to_onehot=None, max_delta_step=None, max_depth=None,\n",
       "             max_leaves=None, min_child_weight=None, missing=nan,\n",
       "             monotone_constraints=None, n_estimators=100, n_jobs=None,\n",
       "             num_parallel_tree=None, predictor=None, random_state=None,\n",
       "             reg_alpha=None, reg_lambda=None, ...)</pre></div></div></div></div></div></div></div>"
      ],
      "text/plain": [
       "Pipeline(steps=[('preprocessor',\n",
       "                 ColumnTransformer(transformers=[('num',\n",
       "                                                  SimpleImputer(strategy='median'),\n",
       "                                                  ['LotFrontage', 'LotArea',\n",
       "                                                   'OverallQual', 'YearBuilt',\n",
       "                                                   'YearRemodAdd', 'MasVnrArea',\n",
       "                                                   'ExterQual', 'BsmtQual',\n",
       "                                                   'BsmtFinType1', 'BsmtFinSF1',\n",
       "                                                   'TotalBsmtSF', 'HeatingQC',\n",
       "                                                   '1stFlrSF', '2ndFlrSF',\n",
       "                                                   'GrLivArea', 'FullBath',\n",
       "                                                   'HalfBath', 'KitchenQual',\n",
       "                                                   'TotRmsAbvGrd', 'Fire...\n",
       "                              gamma=None, gpu_id=None, grow_policy=None,\n",
       "                              importance_type=None,\n",
       "                              interaction_constraints=None, learning_rate=None,\n",
       "                              max_bin=None, max_cat_to_onehot=None,\n",
       "                              max_delta_step=None, max_depth=None,\n",
       "                              max_leaves=None, min_child_weight=None,\n",
       "                              missing=nan, monotone_constraints=None,\n",
       "                              n_estimators=100, n_jobs=None,\n",
       "                              num_parallel_tree=None, predictor=None,\n",
       "                              random_state=None, reg_alpha=None,\n",
       "                              reg_lambda=None, ...))])"
      ]
     },
     "execution_count": 39,
     "metadata": {},
     "output_type": "execute_result"
    }
   ],
   "source": [
    "from sklearn import set_config\n",
    "set_config(display='diagram')\n",
    "regressor"
   ]
  },
  {
   "cell_type": "markdown",
   "id": "bb930693",
   "metadata": {
    "papermill": {
     "duration": 0.023541,
     "end_time": "2022-10-08T20:35:15.730278",
     "exception": false,
     "start_time": "2022-10-08T20:35:15.706737",
     "status": "completed"
    },
    "tags": []
   },
   "source": [
    "## Randomized Search and Cross Validation"
   ]
  },
  {
   "cell_type": "code",
   "execution_count": 40,
   "id": "a19a31b5",
   "metadata": {
    "_kg_hide-input": true,
    "_kg_hide-output": true,
    "execution": {
     "iopub.execute_input": "2022-10-08T20:35:15.780236Z",
     "iopub.status.busy": "2022-10-08T20:35:15.779056Z",
     "iopub.status.idle": "2022-10-08T20:35:15.785159Z",
     "shell.execute_reply": "2022-10-08T20:35:15.784102Z"
    },
    "papermill": {
     "duration": 0.033601,
     "end_time": "2022-10-08T20:35:15.787527",
     "exception": false,
     "start_time": "2022-10-08T20:35:15.753926",
     "status": "completed"
    },
    "tags": []
   },
   "outputs": [],
   "source": [
    "# Hyper-Parameters that can be optimised using GridSearch\n",
    "regressor.get_params().keys();"
   ]
  },
  {
   "cell_type": "code",
   "execution_count": 41,
   "id": "e097bdbe",
   "metadata": {
    "_kg_hide-input": true,
    "_kg_hide-output": true,
    "execution": {
     "iopub.execute_input": "2022-10-08T20:35:15.839700Z",
     "iopub.status.busy": "2022-10-08T20:35:15.838618Z",
     "iopub.status.idle": "2022-10-08T20:35:15.846176Z",
     "shell.execute_reply": "2022-10-08T20:35:15.845022Z"
    },
    "papermill": {
     "duration": 0.035926,
     "end_time": "2022-10-08T20:35:15.848933",
     "exception": false,
     "start_time": "2022-10-08T20:35:15.813007",
     "status": "completed"
    },
    "tags": []
   },
   "outputs": [
    {
     "data": {
      "text/plain": [
       "dict_keys(['explained_variance', 'r2', 'max_error', 'neg_median_absolute_error', 'neg_mean_absolute_error', 'neg_mean_absolute_percentage_error', 'neg_mean_squared_error', 'neg_mean_squared_log_error', 'neg_root_mean_squared_error', 'neg_mean_poisson_deviance', 'neg_mean_gamma_deviance', 'accuracy', 'top_k_accuracy', 'roc_auc', 'roc_auc_ovr', 'roc_auc_ovo', 'roc_auc_ovr_weighted', 'roc_auc_ovo_weighted', 'balanced_accuracy', 'average_precision', 'neg_log_loss', 'neg_brier_score', 'adjusted_rand_score', 'rand_score', 'homogeneity_score', 'completeness_score', 'v_measure_score', 'mutual_info_score', 'adjusted_mutual_info_score', 'normalized_mutual_info_score', 'fowlkes_mallows_score', 'precision', 'precision_macro', 'precision_micro', 'precision_samples', 'precision_weighted', 'recall', 'recall_macro', 'recall_micro', 'recall_samples', 'recall_weighted', 'f1', 'f1_macro', 'f1_micro', 'f1_samples', 'f1_weighted', 'jaccard', 'jaccard_macro', 'jaccard_micro', 'jaccard_samples', 'jaccard_weighted'])"
      ]
     },
     "execution_count": 41,
     "metadata": {},
     "output_type": "execute_result"
    }
   ],
   "source": [
    "from sklearn.metrics import SCORERS\n",
    "SCORERS.keys()"
   ]
  },
  {
   "cell_type": "code",
   "execution_count": 42,
   "id": "ccb54b2c",
   "metadata": {
    "execution": {
     "iopub.execute_input": "2022-10-08T20:35:15.899278Z",
     "iopub.status.busy": "2022-10-08T20:35:15.898845Z",
     "iopub.status.idle": "2022-10-08T20:35:15.906768Z",
     "shell.execute_reply": "2022-10-08T20:35:15.905390Z"
    },
    "papermill": {
     "duration": 0.035795,
     "end_time": "2022-10-08T20:35:15.909245",
     "exception": false,
     "start_time": "2022-10-08T20:35:15.873450",
     "status": "completed"
    },
    "tags": []
   },
   "outputs": [],
   "source": [
    "params = { 'model__max_depth': [3, 5, 6, 10, 15],\n",
    "           'model__learning_rate': [0.01, 0.05, 0.1],\n",
    "           'model__subsample': np.arange(0.5, 1.0, 0.1),\n",
    "           'model__colsample_bytree': np.arange(0.4, 1.0, 0.1),\n",
    "           'model__colsample_bylevel': np.arange(0.4, 1.0, 0.1),\n",
    "           'model__n_estimators': [500, 750, 1000],\n",
    "           'model__gamma': np.arange(1, 5, 1)}\n",
    "Model = RandomizedSearchCV(estimator=regressor,\n",
    "                         param_distributions=params,\n",
    "                         scoring='neg_mean_absolute_error',\n",
    "                         n_iter=25,\n",
    "                         verbose=1)"
   ]
  },
  {
   "cell_type": "markdown",
   "id": "181d47c9",
   "metadata": {
    "papermill": {
     "duration": 0.024226,
     "end_time": "2022-10-08T20:35:15.958552",
     "exception": false,
     "start_time": "2022-10-08T20:35:15.934326",
     "status": "completed"
    },
    "tags": []
   },
   "source": [
    "# 8) Training and Testing Model"
   ]
  },
  {
   "cell_type": "code",
   "execution_count": 43,
   "id": "663212b5",
   "metadata": {
    "_kg_hide-output": false,
    "execution": {
     "iopub.execute_input": "2022-10-08T20:35:16.011270Z",
     "iopub.status.busy": "2022-10-08T20:35:16.010511Z",
     "iopub.status.idle": "2022-10-08T20:46:04.397413Z",
     "shell.execute_reply": "2022-10-08T20:46:04.396219Z"
    },
    "papermill": {
     "duration": 648.416978,
     "end_time": "2022-10-08T20:46:04.400865",
     "exception": false,
     "start_time": "2022-10-08T20:35:15.983887",
     "status": "completed"
    },
    "tags": []
   },
   "outputs": [
    {
     "name": "stdout",
     "output_type": "stream",
     "text": [
      "Fitting 5 folds for each of 25 candidates, totalling 125 fits\n"
     ]
    }
   ],
   "source": [
    "Model.fit(X, y);"
   ]
  },
  {
   "cell_type": "code",
   "execution_count": 44,
   "id": "af1fb277",
   "metadata": {
    "execution": {
     "iopub.execute_input": "2022-10-08T20:46:04.452335Z",
     "iopub.status.busy": "2022-10-08T20:46:04.451896Z",
     "iopub.status.idle": "2022-10-08T20:46:04.506418Z",
     "shell.execute_reply": "2022-10-08T20:46:04.496175Z"
    },
    "papermill": {
     "duration": 0.083063,
     "end_time": "2022-10-08T20:46:04.509073",
     "exception": false,
     "start_time": "2022-10-08T20:46:04.426010",
     "status": "completed"
    },
    "tags": []
   },
   "outputs": [
    {
     "name": "stdout",
     "output_type": "stream",
     "text": [
      "Best params:\n",
      "{'model__subsample': 0.5, 'model__n_estimators': 1000, 'model__max_depth': 5, 'model__learning_rate': 0.01, 'model__gamma': 4, 'model__colsample_bytree': 0.6, 'model__colsample_bylevel': 0.6}\n",
      "Best score in grid search:\n",
      "-15659.391820954621\n",
      "Best XGBoost on whole trained data:\n",
      "-8733.110833154966\n"
     ]
    }
   ],
   "source": [
    "print(\"Best params:\")\n",
    "print(Model.best_params_)\n",
    "print(\"Best score in grid search:\")\n",
    "print(Model.best_score_)\n",
    "print(\"Best XGBoost on whole trained data:\")\n",
    "print(Model.score(X, y))"
   ]
  },
  {
   "cell_type": "code",
   "execution_count": 45,
   "id": "62bc2001",
   "metadata": {
    "execution": {
     "iopub.execute_input": "2022-10-08T20:46:04.560781Z",
     "iopub.status.busy": "2022-10-08T20:46:04.560339Z",
     "iopub.status.idle": "2022-10-08T20:46:04.599107Z",
     "shell.execute_reply": "2022-10-08T20:46:04.598084Z"
    },
    "papermill": {
     "duration": 0.067108,
     "end_time": "2022-10-08T20:46:04.601888",
     "exception": false,
     "start_time": "2022-10-08T20:46:04.534780",
     "status": "completed"
    },
    "tags": []
   },
   "outputs": [],
   "source": [
    "y_train_preds = Model.predict(X)"
   ]
  },
  {
   "cell_type": "code",
   "execution_count": 46,
   "id": "7fa71c45",
   "metadata": {
    "execution": {
     "iopub.execute_input": "2022-10-08T20:46:04.653510Z",
     "iopub.status.busy": "2022-10-08T20:46:04.653093Z",
     "iopub.status.idle": "2022-10-08T20:46:04.661518Z",
     "shell.execute_reply": "2022-10-08T20:46:04.660393Z"
    },
    "papermill": {
     "duration": 0.035934,
     "end_time": "2022-10-08T20:46:04.663920",
     "exception": false,
     "start_time": "2022-10-08T20:46:04.627986",
     "status": "completed"
    },
    "tags": []
   },
   "outputs": [
    {
     "name": "stdout",
     "output_type": "stream",
     "text": [
      "11784.598511873824 0.9779797974505329\n"
     ]
    }
   ],
   "source": [
    "RMSE = mean_squared_error(y, y_train_preds, squared=False)\n",
    "r2 = r2_score(y, y_train_preds)\n",
    "print(RMSE,r2)"
   ]
  },
  {
   "cell_type": "markdown",
   "id": "02af60d6",
   "metadata": {
    "papermill": {
     "duration": 0.025322,
     "end_time": "2022-10-08T20:46:04.715643",
     "exception": false,
     "start_time": "2022-10-08T20:46:04.690321",
     "status": "completed"
    },
    "tags": []
   },
   "source": [
    "## Generate test predictions"
   ]
  },
  {
   "cell_type": "code",
   "execution_count": 47,
   "id": "3de86cf2",
   "metadata": {
    "execution": {
     "iopub.execute_input": "2022-10-08T20:46:04.766257Z",
     "iopub.status.busy": "2022-10-08T20:46:04.765833Z",
     "iopub.status.idle": "2022-10-08T20:46:04.807607Z",
     "shell.execute_reply": "2022-10-08T20:46:04.806522Z"
    },
    "papermill": {
     "duration": 0.070064,
     "end_time": "2022-10-08T20:46:04.810202",
     "exception": false,
     "start_time": "2022-10-08T20:46:04.740138",
     "status": "completed"
    },
    "tags": []
   },
   "outputs": [],
   "source": [
    "y_preds = Model.predict(X_test)"
   ]
  },
  {
   "cell_type": "markdown",
   "id": "fee4a3d6",
   "metadata": {
    "papermill": {
     "duration": 0.024606,
     "end_time": "2022-10-08T20:46:04.861602",
     "exception": false,
     "start_time": "2022-10-08T20:46:04.836996",
     "status": "completed"
    },
    "tags": []
   },
   "source": [
    "## Save output to CSV file"
   ]
  },
  {
   "cell_type": "code",
   "execution_count": 48,
   "id": "6d05110f",
   "metadata": {
    "execution": {
     "iopub.execute_input": "2022-10-08T20:46:04.911663Z",
     "iopub.status.busy": "2022-10-08T20:46:04.911223Z",
     "iopub.status.idle": "2022-10-08T20:46:04.926934Z",
     "shell.execute_reply": "2022-10-08T20:46:04.925706Z"
    },
    "papermill": {
     "duration": 0.043834,
     "end_time": "2022-10-08T20:46:04.929911",
     "exception": false,
     "start_time": "2022-10-08T20:46:04.886077",
     "status": "completed"
    },
    "tags": []
   },
   "outputs": [],
   "source": [
    "# Save test predictions to file\n",
    "output = pd.DataFrame({'Id': X_test.index,\n",
    "                       'SalePrice': y_preds.round()})\n",
    "output.to_csv('submission.csv', index=False)"
   ]
  },
  {
   "cell_type": "markdown",
   "id": "1d08fbba",
   "metadata": {
    "papermill": {
     "duration": 0.025822,
     "end_time": "2022-10-08T20:46:04.980203",
     "exception": false,
     "start_time": "2022-10-08T20:46:04.954381",
     "status": "completed"
    },
    "tags": []
   },
   "source": [
    "## Submit your results"
   ]
  },
  {
   "cell_type": "code",
   "execution_count": 49,
   "id": "7199b547",
   "metadata": {
    "execution": {
     "iopub.execute_input": "2022-10-08T20:46:05.033497Z",
     "iopub.status.busy": "2022-10-08T20:46:05.033031Z",
     "iopub.status.idle": "2022-10-08T20:46:05.045191Z",
     "shell.execute_reply": "2022-10-08T20:46:05.044007Z"
    },
    "papermill": {
     "duration": 0.04159,
     "end_time": "2022-10-08T20:46:05.047385",
     "exception": false,
     "start_time": "2022-10-08T20:46:05.005795",
     "status": "completed"
    },
    "tags": []
   },
   "outputs": [
    {
     "data": {
      "text/html": [
       "<div>\n",
       "<style scoped>\n",
       "    .dataframe tbody tr th:only-of-type {\n",
       "        vertical-align: middle;\n",
       "    }\n",
       "\n",
       "    .dataframe tbody tr th {\n",
       "        vertical-align: top;\n",
       "    }\n",
       "\n",
       "    .dataframe thead th {\n",
       "        text-align: right;\n",
       "    }\n",
       "</style>\n",
       "<table border=\"1\" class=\"dataframe\">\n",
       "  <thead>\n",
       "    <tr style=\"text-align: right;\">\n",
       "      <th></th>\n",
       "      <th>Id</th>\n",
       "      <th>SalePrice</th>\n",
       "    </tr>\n",
       "  </thead>\n",
       "  <tbody>\n",
       "    <tr>\n",
       "      <th>0</th>\n",
       "      <td>1461</td>\n",
       "      <td>126969.0</td>\n",
       "    </tr>\n",
       "    <tr>\n",
       "      <th>1</th>\n",
       "      <td>1462</td>\n",
       "      <td>161707.0</td>\n",
       "    </tr>\n",
       "  </tbody>\n",
       "</table>\n",
       "</div>"
      ],
      "text/plain": [
       "     Id  SalePrice\n",
       "0  1461   126969.0\n",
       "1  1462   161707.0"
      ]
     },
     "execution_count": 49,
     "metadata": {},
     "output_type": "execute_result"
    }
   ],
   "source": [
    "output.head(2)"
   ]
  }
 ],
 "metadata": {
  "kernelspec": {
   "display_name": "Python 3",
   "language": "python",
   "name": "python3"
  },
  "language_info": {
   "codemirror_mode": {
    "name": "ipython",
    "version": 3
   },
   "file_extension": ".py",
   "mimetype": "text/x-python",
   "name": "python",
   "nbconvert_exporter": "python",
   "pygments_lexer": "ipython3",
   "version": "3.7.12"
  },
  "papermill": {
   "default_parameters": {},
   "duration": 670.741921,
   "end_time": "2022-10-08T20:46:06.198675",
   "environment_variables": {},
   "exception": null,
   "input_path": "__notebook__.ipynb",
   "output_path": "__notebook__.ipynb",
   "parameters": {},
   "start_time": "2022-10-08T20:34:55.456754",
   "version": "2.3.4"
  }
 },
 "nbformat": 4,
 "nbformat_minor": 5
}
