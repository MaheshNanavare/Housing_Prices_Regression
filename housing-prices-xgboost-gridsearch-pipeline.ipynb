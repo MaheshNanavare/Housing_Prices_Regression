{
 "cells": [
  {
   "cell_type": "markdown",
   "id": "449143c9",
   "metadata": {
    "papermill": {
     "duration": 0.009143,
     "end_time": "2022-10-06T18:50:43.711259",
     "exception": false,
     "start_time": "2022-10-06T18:50:43.702116",
     "status": "completed"
    },
    "tags": []
   },
   "source": [
    "# **Housing Prices Competition for Kaggle Learn Users**"
   ]
  },
  {
   "cell_type": "markdown",
   "id": "a28ef3cb",
   "metadata": {
    "papermill": {
     "duration": 0.007812,
     "end_time": "2022-10-06T18:50:43.727742",
     "exception": false,
     "start_time": "2022-10-06T18:50:43.719930",
     "status": "completed"
    },
    "tags": []
   },
   "source": [
    "# 1) Create X and y Dataframes"
   ]
  },
  {
   "cell_type": "markdown",
   "id": "9274904d",
   "metadata": {
    "papermill": {
     "duration": 0.008625,
     "end_time": "2022-10-06T18:50:43.744593",
     "exception": false,
     "start_time": "2022-10-06T18:50:43.735968",
     "status": "completed"
    },
    "tags": []
   },
   "source": [
    "## Import Libraries"
   ]
  },
  {
   "cell_type": "code",
   "execution_count": 1,
   "id": "a3bc7858",
   "metadata": {
    "execution": {
     "iopub.execute_input": "2022-10-06T18:50:43.763513Z",
     "iopub.status.busy": "2022-10-06T18:50:43.763156Z",
     "iopub.status.idle": "2022-10-06T18:50:43.773802Z",
     "shell.execute_reply": "2022-10-06T18:50:43.771753Z"
    },
    "papermill": {
     "duration": 0.02308,
     "end_time": "2022-10-06T18:50:43.776966",
     "exception": false,
     "start_time": "2022-10-06T18:50:43.753886",
     "status": "completed"
    },
    "tags": []
   },
   "outputs": [],
   "source": [
    "# Data Analytics Libraries\n",
    "import numpy as np\n",
    "import pandas as pd\n",
    "# import matplotlib.pyplot as plt\n",
    "# import seaborn as sns"
   ]
  },
  {
   "cell_type": "code",
   "execution_count": 2,
   "id": "a8c6aeef",
   "metadata": {
    "execution": {
     "iopub.execute_input": "2022-10-06T18:50:43.799571Z",
     "iopub.status.busy": "2022-10-06T18:50:43.799203Z",
     "iopub.status.idle": "2022-10-06T18:50:45.276019Z",
     "shell.execute_reply": "2022-10-06T18:50:45.274667Z"
    },
    "papermill": {
     "duration": 1.49212,
     "end_time": "2022-10-06T18:50:45.278616",
     "exception": false,
     "start_time": "2022-10-06T18:50:43.786496",
     "status": "completed"
    },
    "tags": []
   },
   "outputs": [],
   "source": [
    "# Machine Learning Libraries\n",
    "from sklearn.compose import ColumnTransformer\n",
    "from sklearn.pipeline import Pipeline\n",
    "from sklearn.impute import SimpleImputer\n",
    "from sklearn.preprocessing import OneHotEncoder\n",
    "from xgboost import XGBRegressor\n",
    "from sklearn.model_selection import GridSearchCV"
   ]
  },
  {
   "cell_type": "markdown",
   "id": "d548bfaf",
   "metadata": {
    "papermill": {
     "duration": 0.007645,
     "end_time": "2022-10-06T18:50:45.294119",
     "exception": false,
     "start_time": "2022-10-06T18:50:45.286474",
     "status": "completed"
    },
    "tags": []
   },
   "source": [
    "## List all files under the input directory"
   ]
  },
  {
   "cell_type": "code",
   "execution_count": 3,
   "id": "73fa25a4",
   "metadata": {
    "_kg_hide-output": true,
    "execution": {
     "iopub.execute_input": "2022-10-06T18:50:45.311905Z",
     "iopub.status.busy": "2022-10-06T18:50:45.311571Z",
     "iopub.status.idle": "2022-10-06T18:50:45.318792Z",
     "shell.execute_reply": "2022-10-06T18:50:45.317241Z"
    },
    "papermill": {
     "duration": 0.019196,
     "end_time": "2022-10-06T18:50:45.321246",
     "exception": false,
     "start_time": "2022-10-06T18:50:45.302050",
     "status": "completed"
    },
    "tags": []
   },
   "outputs": [
    {
     "name": "stdout",
     "output_type": "stream",
     "text": [
      "/kaggle/input/home-data-for-ml-course/sample_submission.csv\n",
      "/kaggle/input/home-data-for-ml-course/sample_submission.csv.gz\n",
      "/kaggle/input/home-data-for-ml-course/train.csv.gz\n",
      "/kaggle/input/home-data-for-ml-course/data_description.txt\n",
      "/kaggle/input/home-data-for-ml-course/test.csv.gz\n",
      "/kaggle/input/home-data-for-ml-course/train.csv\n",
      "/kaggle/input/home-data-for-ml-course/test.csv\n"
     ]
    }
   ],
   "source": [
    "import os\n",
    "for dirname, _, filenames in os.walk('/kaggle/input'):\n",
    "    for filename in filenames:\n",
    "        print(os.path.join(dirname, filename))"
   ]
  },
  {
   "cell_type": "markdown",
   "id": "3e8aeca8",
   "metadata": {
    "papermill": {
     "duration": 0.007734,
     "end_time": "2022-10-06T18:50:45.337188",
     "exception": false,
     "start_time": "2022-10-06T18:50:45.329454",
     "status": "completed"
    },
    "tags": []
   },
   "source": [
    "## Read the data"
   ]
  },
  {
   "cell_type": "code",
   "execution_count": 4,
   "id": "61dbcf56",
   "metadata": {
    "execution": {
     "iopub.execute_input": "2022-10-06T18:50:45.354898Z",
     "iopub.status.busy": "2022-10-06T18:50:45.354551Z",
     "iopub.status.idle": "2022-10-06T18:50:45.426023Z",
     "shell.execute_reply": "2022-10-06T18:50:45.425389Z"
    },
    "papermill": {
     "duration": 0.083019,
     "end_time": "2022-10-06T18:50:45.428147",
     "exception": false,
     "start_time": "2022-10-06T18:50:45.345128",
     "status": "completed"
    },
    "tags": []
   },
   "outputs": [],
   "source": [
    "X = pd.read_csv('/kaggle/input/home-data-for-ml-course/train.csv', index_col='Id')\n",
    "X_test = pd.read_csv('/kaggle/input/home-data-for-ml-course/test.csv', index_col='Id')"
   ]
  },
  {
   "cell_type": "markdown",
   "id": "db0a6da0",
   "metadata": {
    "papermill": {
     "duration": 0.007734,
     "end_time": "2022-10-06T18:50:45.444106",
     "exception": false,
     "start_time": "2022-10-06T18:50:45.436372",
     "status": "completed"
    },
    "tags": []
   },
   "source": [
    "## Remove rows with missing target, separate target from predictors"
   ]
  },
  {
   "cell_type": "code",
   "execution_count": 5,
   "id": "34afebf9",
   "metadata": {
    "_kg_hide-output": true,
    "execution": {
     "iopub.execute_input": "2022-10-06T18:50:45.461903Z",
     "iopub.status.busy": "2022-10-06T18:50:45.460907Z",
     "iopub.status.idle": "2022-10-06T18:50:45.475189Z",
     "shell.execute_reply": "2022-10-06T18:50:45.473597Z"
    },
    "papermill": {
     "duration": 0.026043,
     "end_time": "2022-10-06T18:50:45.477787",
     "exception": false,
     "start_time": "2022-10-06T18:50:45.451744",
     "status": "completed"
    },
    "tags": []
   },
   "outputs": [],
   "source": [
    "X.dropna(axis=0, subset=['SalePrice'], inplace=True)\n",
    "y = X.SalePrice\n",
    "X.drop(['SalePrice'], axis=1, inplace=True)"
   ]
  },
  {
   "cell_type": "code",
   "execution_count": 6,
   "id": "2df663a8",
   "metadata": {
    "_kg_hide-output": true,
    "execution": {
     "iopub.execute_input": "2022-10-06T18:50:45.495893Z",
     "iopub.status.busy": "2022-10-06T18:50:45.495556Z",
     "iopub.status.idle": "2022-10-06T18:50:45.519307Z",
     "shell.execute_reply": "2022-10-06T18:50:45.517672Z"
    },
    "papermill": {
     "duration": 0.035362,
     "end_time": "2022-10-06T18:50:45.521272",
     "exception": false,
     "start_time": "2022-10-06T18:50:45.485910",
     "status": "completed"
    },
    "tags": []
   },
   "outputs": [
    {
     "name": "stdout",
     "output_type": "stream",
     "text": [
      "<class 'pandas.core.frame.DataFrame'>\n",
      "Int64Index: 1460 entries, 1 to 1460\n",
      "Data columns (total 79 columns):\n",
      " #   Column         Non-Null Count  Dtype  \n",
      "---  ------         --------------  -----  \n",
      " 0   MSSubClass     1460 non-null   int64  \n",
      " 1   MSZoning       1460 non-null   object \n",
      " 2   LotFrontage    1201 non-null   float64\n",
      " 3   LotArea        1460 non-null   int64  \n",
      " 4   Street         1460 non-null   object \n",
      " 5   Alley          91 non-null     object \n",
      " 6   LotShape       1460 non-null   object \n",
      " 7   LandContour    1460 non-null   object \n",
      " 8   Utilities      1460 non-null   object \n",
      " 9   LotConfig      1460 non-null   object \n",
      " 10  LandSlope      1460 non-null   object \n",
      " 11  Neighborhood   1460 non-null   object \n",
      " 12  Condition1     1460 non-null   object \n",
      " 13  Condition2     1460 non-null   object \n",
      " 14  BldgType       1460 non-null   object \n",
      " 15  HouseStyle     1460 non-null   object \n",
      " 16  OverallQual    1460 non-null   int64  \n",
      " 17  OverallCond    1460 non-null   int64  \n",
      " 18  YearBuilt      1460 non-null   int64  \n",
      " 19  YearRemodAdd   1460 non-null   int64  \n",
      " 20  RoofStyle      1460 non-null   object \n",
      " 21  RoofMatl       1460 non-null   object \n",
      " 22  Exterior1st    1460 non-null   object \n",
      " 23  Exterior2nd    1460 non-null   object \n",
      " 24  MasVnrType     1452 non-null   object \n",
      " 25  MasVnrArea     1452 non-null   float64\n",
      " 26  ExterQual      1460 non-null   object \n",
      " 27  ExterCond      1460 non-null   object \n",
      " 28  Foundation     1460 non-null   object \n",
      " 29  BsmtQual       1423 non-null   object \n",
      " 30  BsmtCond       1423 non-null   object \n",
      " 31  BsmtExposure   1422 non-null   object \n",
      " 32  BsmtFinType1   1423 non-null   object \n",
      " 33  BsmtFinSF1     1460 non-null   int64  \n",
      " 34  BsmtFinType2   1422 non-null   object \n",
      " 35  BsmtFinSF2     1460 non-null   int64  \n",
      " 36  BsmtUnfSF      1460 non-null   int64  \n",
      " 37  TotalBsmtSF    1460 non-null   int64  \n",
      " 38  Heating        1460 non-null   object \n",
      " 39  HeatingQC      1460 non-null   object \n",
      " 40  CentralAir     1460 non-null   object \n",
      " 41  Electrical     1459 non-null   object \n",
      " 42  1stFlrSF       1460 non-null   int64  \n",
      " 43  2ndFlrSF       1460 non-null   int64  \n",
      " 44  LowQualFinSF   1460 non-null   int64  \n",
      " 45  GrLivArea      1460 non-null   int64  \n",
      " 46  BsmtFullBath   1460 non-null   int64  \n",
      " 47  BsmtHalfBath   1460 non-null   int64  \n",
      " 48  FullBath       1460 non-null   int64  \n",
      " 49  HalfBath       1460 non-null   int64  \n",
      " 50  BedroomAbvGr   1460 non-null   int64  \n",
      " 51  KitchenAbvGr   1460 non-null   int64  \n",
      " 52  KitchenQual    1460 non-null   object \n",
      " 53  TotRmsAbvGrd   1460 non-null   int64  \n",
      " 54  Functional     1460 non-null   object \n",
      " 55  Fireplaces     1460 non-null   int64  \n",
      " 56  FireplaceQu    770 non-null    object \n",
      " 57  GarageType     1379 non-null   object \n",
      " 58  GarageYrBlt    1379 non-null   float64\n",
      " 59  GarageFinish   1379 non-null   object \n",
      " 60  GarageCars     1460 non-null   int64  \n",
      " 61  GarageArea     1460 non-null   int64  \n",
      " 62  GarageQual     1379 non-null   object \n",
      " 63  GarageCond     1379 non-null   object \n",
      " 64  PavedDrive     1460 non-null   object \n",
      " 65  WoodDeckSF     1460 non-null   int64  \n",
      " 66  OpenPorchSF    1460 non-null   int64  \n",
      " 67  EnclosedPorch  1460 non-null   int64  \n",
      " 68  3SsnPorch      1460 non-null   int64  \n",
      " 69  ScreenPorch    1460 non-null   int64  \n",
      " 70  PoolArea       1460 non-null   int64  \n",
      " 71  PoolQC         7 non-null      object \n",
      " 72  Fence          281 non-null    object \n",
      " 73  MiscFeature    54 non-null     object \n",
      " 74  MiscVal        1460 non-null   int64  \n",
      " 75  MoSold         1460 non-null   int64  \n",
      " 76  YrSold         1460 non-null   int64  \n",
      " 77  SaleType       1460 non-null   object \n",
      " 78  SaleCondition  1460 non-null   object \n",
      "dtypes: float64(3), int64(33), object(43)\n",
      "memory usage: 912.5+ KB\n"
     ]
    }
   ],
   "source": [
    "X.info()"
   ]
  },
  {
   "cell_type": "markdown",
   "id": "ddf87fc1",
   "metadata": {
    "papermill": {
     "duration": 0.007964,
     "end_time": "2022-10-06T18:50:45.537297",
     "exception": false,
     "start_time": "2022-10-06T18:50:45.529333",
     "status": "completed"
    },
    "tags": []
   },
   "source": [
    "# 2) Clean the Data"
   ]
  },
  {
   "cell_type": "markdown",
   "id": "bc22736e",
   "metadata": {
    "papermill": {
     "duration": 0.00792,
     "end_time": "2022-10-06T18:50:45.553331",
     "exception": false,
     "start_time": "2022-10-06T18:50:45.545411",
     "status": "completed"
    },
    "tags": []
   },
   "source": [
    "## Remove the columns with more than half missing values"
   ]
  },
  {
   "cell_type": "code",
   "execution_count": 7,
   "id": "0931052b",
   "metadata": {
    "_kg_hide-output": true,
    "execution": {
     "iopub.execute_input": "2022-10-06T18:50:45.571317Z",
     "iopub.status.busy": "2022-10-06T18:50:45.570838Z",
     "iopub.status.idle": "2022-10-06T18:50:45.587165Z",
     "shell.execute_reply": "2022-10-06T18:50:45.586124Z"
    },
    "papermill": {
     "duration": 0.028884,
     "end_time": "2022-10-06T18:50:45.590392",
     "exception": false,
     "start_time": "2022-10-06T18:50:45.561508",
     "status": "completed"
    },
    "tags": []
   },
   "outputs": [
    {
     "data": {
      "text/plain": [
       "LotFrontage      259\n",
       "Alley           1369\n",
       "MasVnrType         8\n",
       "MasVnrArea         8\n",
       "BsmtQual          37\n",
       "BsmtCond          37\n",
       "BsmtExposure      38\n",
       "BsmtFinType1      37\n",
       "BsmtFinType2      38\n",
       "Electrical         1\n",
       "FireplaceQu      690\n",
       "GarageType        81\n",
       "GarageYrBlt       81\n",
       "GarageFinish      81\n",
       "GarageQual        81\n",
       "GarageCond        81\n",
       "PoolQC          1453\n",
       "Fence           1179\n",
       "MiscFeature     1406\n",
       "dtype: int64"
      ]
     },
     "execution_count": 7,
     "metadata": {},
     "output_type": "execute_result"
    }
   ],
   "source": [
    "null_values = X.isnull().sum()\n",
    "null_values[null_values>0]"
   ]
  },
  {
   "cell_type": "code",
   "execution_count": 8,
   "id": "2df279ef",
   "metadata": {
    "execution": {
     "iopub.execute_input": "2022-10-06T18:50:45.612022Z",
     "iopub.status.busy": "2022-10-06T18:50:45.611370Z",
     "iopub.status.idle": "2022-10-06T18:50:45.643286Z",
     "shell.execute_reply": "2022-10-06T18:50:45.641845Z"
    },
    "papermill": {
     "duration": 0.045904,
     "end_time": "2022-10-06T18:50:45.646310",
     "exception": false,
     "start_time": "2022-10-06T18:50:45.600406",
     "status": "completed"
    },
    "tags": []
   },
   "outputs": [
    {
     "data": {
      "text/plain": [
       "['Alley', 'PoolQC', 'Fence', 'MiscFeature']"
      ]
     },
     "execution_count": 8,
     "metadata": {},
     "output_type": "execute_result"
    }
   ],
   "source": [
    "# Columns with missing values more than half of the number of rows.\n",
    "null_col = [col for col in X.columns if X[col].isnull().sum() > X.shape[0]/2]\n",
    "null_col"
   ]
  },
  {
   "cell_type": "code",
   "execution_count": 9,
   "id": "e4c5144d",
   "metadata": {
    "execution": {
     "iopub.execute_input": "2022-10-06T18:50:45.670222Z",
     "iopub.status.busy": "2022-10-06T18:50:45.668696Z",
     "iopub.status.idle": "2022-10-06T18:50:45.678629Z",
     "shell.execute_reply": "2022-10-06T18:50:45.677100Z"
    },
    "papermill": {
     "duration": 0.024799,
     "end_time": "2022-10-06T18:50:45.681296",
     "exception": false,
     "start_time": "2022-10-06T18:50:45.656497",
     "status": "completed"
    },
    "tags": []
   },
   "outputs": [],
   "source": [
    "X.drop(null_col,axis=1,inplace=True)\n",
    "X_test.drop(null_col,axis=1,inplace=True)"
   ]
  },
  {
   "cell_type": "markdown",
   "id": "aa4e25c8",
   "metadata": {
    "papermill": {
     "duration": 0.009298,
     "end_time": "2022-10-06T18:50:45.700164",
     "exception": false,
     "start_time": "2022-10-06T18:50:45.690866",
     "status": "completed"
    },
    "tags": []
   },
   "source": [
    "# 3) Feature Engineering"
   ]
  },
  {
   "cell_type": "markdown",
   "id": "a6f2385b",
   "metadata": {
    "papermill": {
     "duration": 0.008789,
     "end_time": "2022-10-06T18:50:45.717977",
     "exception": false,
     "start_time": "2022-10-06T18:50:45.709188",
     "status": "completed"
    },
    "tags": []
   },
   "source": [
    "## Adding features 'Garage', 'Fireplace' and 'Bsmt'"
   ]
  },
  {
   "cell_type": "markdown",
   "id": "43b13fb5",
   "metadata": {
    "papermill": {
     "duration": 0.008931,
     "end_time": "2022-10-06T18:50:45.736269",
     "exception": false,
     "start_time": "2022-10-06T18:50:45.727338",
     "status": "completed"
    },
    "tags": []
   },
   "source": [
    "Garage column: Binary Categorical\n",
    "* 0 (for 81 rows having missing values in columns GarageType, GarageYrBlt, GarageFinish, GarageQual, GarageCond)\n",
    "* 1 (for all others rows)"
   ]
  },
  {
   "cell_type": "code",
   "execution_count": 10,
   "id": "ad9f666e",
   "metadata": {
    "execution": {
     "iopub.execute_input": "2022-10-06T18:50:45.757204Z",
     "iopub.status.busy": "2022-10-06T18:50:45.756787Z",
     "iopub.status.idle": "2022-10-06T18:50:45.764865Z",
     "shell.execute_reply": "2022-10-06T18:50:45.763110Z"
    },
    "papermill": {
     "duration": 0.021106,
     "end_time": "2022-10-06T18:50:45.766668",
     "exception": false,
     "start_time": "2022-10-06T18:50:45.745562",
     "status": "completed"
    },
    "tags": []
   },
   "outputs": [],
   "source": [
    "X['Garage'] = X['GarageQual'].notnull().astype(int)\n",
    "X_test['Garage'] = X_test['GarageQual'].notnull().astype(int)"
   ]
  },
  {
   "cell_type": "markdown",
   "id": "6a5c8e29",
   "metadata": {
    "papermill": {
     "duration": 0.009027,
     "end_time": "2022-10-06T18:50:45.784368",
     "exception": false,
     "start_time": "2022-10-06T18:50:45.775341",
     "status": "completed"
    },
    "tags": []
   },
   "source": [
    "Fireplace column: Binary Categorical\n",
    "* 0 (for 690 rows having missing values in column FireplaceQu)\n",
    "* 1 (for all others rows)"
   ]
  },
  {
   "cell_type": "code",
   "execution_count": 11,
   "id": "521eb1ea",
   "metadata": {
    "execution": {
     "iopub.execute_input": "2022-10-06T18:50:45.804359Z",
     "iopub.status.busy": "2022-10-06T18:50:45.802949Z",
     "iopub.status.idle": "2022-10-06T18:50:45.810688Z",
     "shell.execute_reply": "2022-10-06T18:50:45.810027Z"
    },
    "papermill": {
     "duration": 0.019222,
     "end_time": "2022-10-06T18:50:45.812429",
     "exception": false,
     "start_time": "2022-10-06T18:50:45.793207",
     "status": "completed"
    },
    "tags": []
   },
   "outputs": [],
   "source": [
    "X['Fireplace'] = X['FireplaceQu'].notnull().astype(int)\n",
    "X_test['Fireplace'] = X_test['FireplaceQu'].notnull().astype(int)"
   ]
  },
  {
   "cell_type": "markdown",
   "id": "849f32f0",
   "metadata": {
    "papermill": {
     "duration": 0.009053,
     "end_time": "2022-10-06T18:50:45.830039",
     "exception": false,
     "start_time": "2022-10-06T18:50:45.820986",
     "status": "completed"
    },
    "tags": []
   },
   "source": [
    "Basement column: Binary Categorical\n",
    "* 0 (for 37 rows having missing values in columns BsmtQual, BsmtCond, BsmtExposure, BsmtFinType1, BsmtFinType2)\n",
    "* 1 (for all others rows)"
   ]
  },
  {
   "cell_type": "code",
   "execution_count": 12,
   "id": "382f899a",
   "metadata": {
    "execution": {
     "iopub.execute_input": "2022-10-06T18:50:45.849660Z",
     "iopub.status.busy": "2022-10-06T18:50:45.849184Z",
     "iopub.status.idle": "2022-10-06T18:50:45.856478Z",
     "shell.execute_reply": "2022-10-06T18:50:45.855148Z"
    },
    "papermill": {
     "duration": 0.019794,
     "end_time": "2022-10-06T18:50:45.858808",
     "exception": false,
     "start_time": "2022-10-06T18:50:45.839014",
     "status": "completed"
    },
    "tags": []
   },
   "outputs": [],
   "source": [
    "X['Bsmt'] = X['BsmtQual'].notnull().astype(int)\n",
    "X_test['Bsmt'] = X_test['BsmtQual'].notnull().astype(int)"
   ]
  },
  {
   "cell_type": "markdown",
   "id": "1e24cf33",
   "metadata": {
    "papermill": {
     "duration": 0.008187,
     "end_time": "2022-10-06T18:50:45.875645",
     "exception": false,
     "start_time": "2022-10-06T18:50:45.867458",
     "status": "completed"
    },
    "tags": []
   },
   "source": [
    "# 4) Feature Selection"
   ]
  },
  {
   "cell_type": "code",
   "execution_count": 13,
   "id": "3b21f57f",
   "metadata": {
    "execution": {
     "iopub.execute_input": "2022-10-06T18:50:45.895184Z",
     "iopub.status.busy": "2022-10-06T18:50:45.894826Z",
     "iopub.status.idle": "2022-10-06T18:50:45.920791Z",
     "shell.execute_reply": "2022-10-06T18:50:45.919295Z"
    },
    "papermill": {
     "duration": 0.039088,
     "end_time": "2022-10-06T18:50:45.923237",
     "exception": false,
     "start_time": "2022-10-06T18:50:45.884149",
     "status": "completed"
    },
    "tags": []
   },
   "outputs": [],
   "source": [
    "# Categorical columns with low cardinality (number of unique values in a column)\n",
    "categorical_cols = [cname for cname in X.columns if\n",
    "                    X[cname].nunique() < 10 and \n",
    "                    X[cname].dtype == \"object\"]\n",
    "\n",
    "# Numerical columns\n",
    "numerical_cols = [cname for cname in X.columns if \n",
    "                X[cname].dtype in ['int64', 'float64']]\n",
    "\n",
    "# Keep selected columns only\n",
    "my_cols = categorical_cols + numerical_cols\n",
    "X = X[my_cols]\n",
    "X_test = X_test[my_cols]"
   ]
  },
  {
   "cell_type": "code",
   "execution_count": 14,
   "id": "6aa2f769",
   "metadata": {
    "execution": {
     "iopub.execute_input": "2022-10-06T18:50:45.943237Z",
     "iopub.status.busy": "2022-10-06T18:50:45.942858Z",
     "iopub.status.idle": "2022-10-06T18:50:45.966732Z",
     "shell.execute_reply": "2022-10-06T18:50:45.966028Z"
    },
    "papermill": {
     "duration": 0.036276,
     "end_time": "2022-10-06T18:50:45.968438",
     "exception": false,
     "start_time": "2022-10-06T18:50:45.932162",
     "status": "completed"
    },
    "tags": []
   },
   "outputs": [
    {
     "data": {
      "text/html": [
       "<div>\n",
       "<style scoped>\n",
       "    .dataframe tbody tr th:only-of-type {\n",
       "        vertical-align: middle;\n",
       "    }\n",
       "\n",
       "    .dataframe tbody tr th {\n",
       "        vertical-align: top;\n",
       "    }\n",
       "\n",
       "    .dataframe thead th {\n",
       "        text-align: right;\n",
       "    }\n",
       "</style>\n",
       "<table border=\"1\" class=\"dataframe\">\n",
       "  <thead>\n",
       "    <tr style=\"text-align: right;\">\n",
       "      <th></th>\n",
       "      <th>MSZoning</th>\n",
       "      <th>Street</th>\n",
       "      <th>LotShape</th>\n",
       "      <th>LandContour</th>\n",
       "      <th>Utilities</th>\n",
       "      <th>LotConfig</th>\n",
       "      <th>LandSlope</th>\n",
       "      <th>Condition1</th>\n",
       "      <th>Condition2</th>\n",
       "      <th>BldgType</th>\n",
       "      <th>...</th>\n",
       "      <th>EnclosedPorch</th>\n",
       "      <th>3SsnPorch</th>\n",
       "      <th>ScreenPorch</th>\n",
       "      <th>PoolArea</th>\n",
       "      <th>MiscVal</th>\n",
       "      <th>MoSold</th>\n",
       "      <th>YrSold</th>\n",
       "      <th>Garage</th>\n",
       "      <th>Fireplace</th>\n",
       "      <th>Bsmt</th>\n",
       "    </tr>\n",
       "    <tr>\n",
       "      <th>Id</th>\n",
       "      <th></th>\n",
       "      <th></th>\n",
       "      <th></th>\n",
       "      <th></th>\n",
       "      <th></th>\n",
       "      <th></th>\n",
       "      <th></th>\n",
       "      <th></th>\n",
       "      <th></th>\n",
       "      <th></th>\n",
       "      <th></th>\n",
       "      <th></th>\n",
       "      <th></th>\n",
       "      <th></th>\n",
       "      <th></th>\n",
       "      <th></th>\n",
       "      <th></th>\n",
       "      <th></th>\n",
       "      <th></th>\n",
       "      <th></th>\n",
       "      <th></th>\n",
       "    </tr>\n",
       "  </thead>\n",
       "  <tbody>\n",
       "    <tr>\n",
       "      <th>1</th>\n",
       "      <td>RL</td>\n",
       "      <td>Pave</td>\n",
       "      <td>Reg</td>\n",
       "      <td>Lvl</td>\n",
       "      <td>AllPub</td>\n",
       "      <td>Inside</td>\n",
       "      <td>Gtl</td>\n",
       "      <td>Norm</td>\n",
       "      <td>Norm</td>\n",
       "      <td>1Fam</td>\n",
       "      <td>...</td>\n",
       "      <td>0</td>\n",
       "      <td>0</td>\n",
       "      <td>0</td>\n",
       "      <td>0</td>\n",
       "      <td>0</td>\n",
       "      <td>2</td>\n",
       "      <td>2008</td>\n",
       "      <td>1</td>\n",
       "      <td>0</td>\n",
       "      <td>1</td>\n",
       "    </tr>\n",
       "    <tr>\n",
       "      <th>2</th>\n",
       "      <td>RL</td>\n",
       "      <td>Pave</td>\n",
       "      <td>Reg</td>\n",
       "      <td>Lvl</td>\n",
       "      <td>AllPub</td>\n",
       "      <td>FR2</td>\n",
       "      <td>Gtl</td>\n",
       "      <td>Feedr</td>\n",
       "      <td>Norm</td>\n",
       "      <td>1Fam</td>\n",
       "      <td>...</td>\n",
       "      <td>0</td>\n",
       "      <td>0</td>\n",
       "      <td>0</td>\n",
       "      <td>0</td>\n",
       "      <td>0</td>\n",
       "      <td>5</td>\n",
       "      <td>2007</td>\n",
       "      <td>1</td>\n",
       "      <td>1</td>\n",
       "      <td>1</td>\n",
       "    </tr>\n",
       "  </tbody>\n",
       "</table>\n",
       "<p>2 rows × 75 columns</p>\n",
       "</div>"
      ],
      "text/plain": [
       "   MSZoning Street LotShape LandContour Utilities LotConfig LandSlope  \\\n",
       "Id                                                                      \n",
       "1        RL   Pave      Reg         Lvl    AllPub    Inside       Gtl   \n",
       "2        RL   Pave      Reg         Lvl    AllPub       FR2       Gtl   \n",
       "\n",
       "   Condition1 Condition2 BldgType  ... EnclosedPorch 3SsnPorch ScreenPorch  \\\n",
       "Id                                 ...                                       \n",
       "1        Norm       Norm     1Fam  ...             0         0           0   \n",
       "2       Feedr       Norm     1Fam  ...             0         0           0   \n",
       "\n",
       "   PoolArea MiscVal MoSold YrSold Garage Fireplace Bsmt  \n",
       "Id                                                       \n",
       "1         0       0      2   2008      1         0    1  \n",
       "2         0       0      5   2007      1         1    1  \n",
       "\n",
       "[2 rows x 75 columns]"
      ]
     },
     "execution_count": 14,
     "metadata": {},
     "output_type": "execute_result"
    }
   ],
   "source": [
    "X.head(2)"
   ]
  },
  {
   "cell_type": "markdown",
   "id": "33e48d3a",
   "metadata": {
    "papermill": {
     "duration": 0.008638,
     "end_time": "2022-10-06T18:50:45.986042",
     "exception": false,
     "start_time": "2022-10-06T18:50:45.977404",
     "status": "completed"
    },
    "tags": []
   },
   "source": [
    "# 5) Model Creation"
   ]
  },
  {
   "cell_type": "markdown",
   "id": "2ff0d8cc",
   "metadata": {
    "papermill": {
     "duration": 0.008778,
     "end_time": "2022-10-06T18:50:46.003782",
     "exception": false,
     "start_time": "2022-10-06T18:50:45.995004",
     "status": "completed"
    },
    "tags": []
   },
   "source": [
    "## Preprocessing"
   ]
  },
  {
   "cell_type": "code",
   "execution_count": 15,
   "id": "28b5a9e2",
   "metadata": {
    "execution": {
     "iopub.execute_input": "2022-10-06T18:50:46.023753Z",
     "iopub.status.busy": "2022-10-06T18:50:46.023215Z",
     "iopub.status.idle": "2022-10-06T18:50:46.029649Z",
     "shell.execute_reply": "2022-10-06T18:50:46.027410Z"
    },
    "papermill": {
     "duration": 0.019142,
     "end_time": "2022-10-06T18:50:46.032263",
     "exception": false,
     "start_time": "2022-10-06T18:50:46.013121",
     "status": "completed"
    },
    "tags": []
   },
   "outputs": [],
   "source": [
    "# Preprocessing for numerical data\n",
    "numerical_transformer = SimpleImputer(strategy='median')\n",
    "\n",
    "# Preprocessing for categorical data\n",
    "categorical_transformer = Pipeline(steps=[\n",
    "    ('imputer', SimpleImputer(strategy='most_frequent')),\n",
    "    ('onehot', OneHotEncoder(handle_unknown='ignore'))\n",
    "])\n",
    "\n",
    "# Bundle preprocessing for numerical and categorical data\n",
    "preprocessor = ColumnTransformer(\n",
    "    transformers=[\n",
    "        ('num', numerical_transformer, numerical_cols),\n",
    "        ('cat', categorical_transformer, categorical_cols)\n",
    "    ])"
   ]
  },
  {
   "cell_type": "code",
   "execution_count": 16,
   "id": "b1233540",
   "metadata": {
    "execution": {
     "iopub.execute_input": "2022-10-06T18:50:46.051750Z",
     "iopub.status.busy": "2022-10-06T18:50:46.051401Z",
     "iopub.status.idle": "2022-10-06T18:50:46.056120Z",
     "shell.execute_reply": "2022-10-06T18:50:46.055285Z"
    },
    "papermill": {
     "duration": 0.016915,
     "end_time": "2022-10-06T18:50:46.058095",
     "exception": false,
     "start_time": "2022-10-06T18:50:46.041180",
     "status": "completed"
    },
    "tags": []
   },
   "outputs": [],
   "source": [
    "# Create object of class XGBRegressor\n",
    "xgb = XGBRegressor()\n",
    "\n",
    "# Bundle preprocessing and modeling code in a pipeline\n",
    "regressor = Pipeline(steps=[('preprocessor', preprocessor),\n",
    "                      ('model', xgb)\n",
    "                     ])"
   ]
  },
  {
   "cell_type": "markdown",
   "id": "18a51d44",
   "metadata": {
    "papermill": {
     "duration": 0.008775,
     "end_time": "2022-10-06T18:50:46.075819",
     "exception": false,
     "start_time": "2022-10-06T18:50:46.067044",
     "status": "completed"
    },
    "tags": []
   },
   "source": [
    "## Visualize Pipeline"
   ]
  },
  {
   "cell_type": "code",
   "execution_count": 17,
   "id": "ed6bd4a2",
   "metadata": {
    "execution": {
     "iopub.execute_input": "2022-10-06T18:50:46.096253Z",
     "iopub.status.busy": "2022-10-06T18:50:46.095862Z",
     "iopub.status.idle": "2022-10-06T18:50:46.157961Z",
     "shell.execute_reply": "2022-10-06T18:50:46.156662Z"
    },
    "papermill": {
     "duration": 0.074523,
     "end_time": "2022-10-06T18:50:46.160014",
     "exception": false,
     "start_time": "2022-10-06T18:50:46.085491",
     "status": "completed"
    },
    "tags": []
   },
   "outputs": [
    {
     "data": {
      "text/html": [
       "<style>#sk-ebb2a1d9-7205-46e6-b918-6afd7a068087 {color: black;background-color: white;}#sk-ebb2a1d9-7205-46e6-b918-6afd7a068087 pre{padding: 0;}#sk-ebb2a1d9-7205-46e6-b918-6afd7a068087 div.sk-toggleable {background-color: white;}#sk-ebb2a1d9-7205-46e6-b918-6afd7a068087 label.sk-toggleable__label {cursor: pointer;display: block;width: 100%;margin-bottom: 0;padding: 0.3em;box-sizing: border-box;text-align: center;}#sk-ebb2a1d9-7205-46e6-b918-6afd7a068087 label.sk-toggleable__label-arrow:before {content: \"▸\";float: left;margin-right: 0.25em;color: #696969;}#sk-ebb2a1d9-7205-46e6-b918-6afd7a068087 label.sk-toggleable__label-arrow:hover:before {color: black;}#sk-ebb2a1d9-7205-46e6-b918-6afd7a068087 div.sk-estimator:hover label.sk-toggleable__label-arrow:before {color: black;}#sk-ebb2a1d9-7205-46e6-b918-6afd7a068087 div.sk-toggleable__content {max-height: 0;max-width: 0;overflow: hidden;text-align: left;background-color: #f0f8ff;}#sk-ebb2a1d9-7205-46e6-b918-6afd7a068087 div.sk-toggleable__content pre {margin: 0.2em;color: black;border-radius: 0.25em;background-color: #f0f8ff;}#sk-ebb2a1d9-7205-46e6-b918-6afd7a068087 input.sk-toggleable__control:checked~div.sk-toggleable__content {max-height: 200px;max-width: 100%;overflow: auto;}#sk-ebb2a1d9-7205-46e6-b918-6afd7a068087 input.sk-toggleable__control:checked~label.sk-toggleable__label-arrow:before {content: \"▾\";}#sk-ebb2a1d9-7205-46e6-b918-6afd7a068087 div.sk-estimator input.sk-toggleable__control:checked~label.sk-toggleable__label {background-color: #d4ebff;}#sk-ebb2a1d9-7205-46e6-b918-6afd7a068087 div.sk-label input.sk-toggleable__control:checked~label.sk-toggleable__label {background-color: #d4ebff;}#sk-ebb2a1d9-7205-46e6-b918-6afd7a068087 input.sk-hidden--visually {border: 0;clip: rect(1px 1px 1px 1px);clip: rect(1px, 1px, 1px, 1px);height: 1px;margin: -1px;overflow: hidden;padding: 0;position: absolute;width: 1px;}#sk-ebb2a1d9-7205-46e6-b918-6afd7a068087 div.sk-estimator {font-family: monospace;background-color: #f0f8ff;border: 1px dotted black;border-radius: 0.25em;box-sizing: border-box;margin-bottom: 0.5em;}#sk-ebb2a1d9-7205-46e6-b918-6afd7a068087 div.sk-estimator:hover {background-color: #d4ebff;}#sk-ebb2a1d9-7205-46e6-b918-6afd7a068087 div.sk-parallel-item::after {content: \"\";width: 100%;border-bottom: 1px solid gray;flex-grow: 1;}#sk-ebb2a1d9-7205-46e6-b918-6afd7a068087 div.sk-label:hover label.sk-toggleable__label {background-color: #d4ebff;}#sk-ebb2a1d9-7205-46e6-b918-6afd7a068087 div.sk-serial::before {content: \"\";position: absolute;border-left: 1px solid gray;box-sizing: border-box;top: 2em;bottom: 0;left: 50%;}#sk-ebb2a1d9-7205-46e6-b918-6afd7a068087 div.sk-serial {display: flex;flex-direction: column;align-items: center;background-color: white;padding-right: 0.2em;padding-left: 0.2em;}#sk-ebb2a1d9-7205-46e6-b918-6afd7a068087 div.sk-item {z-index: 1;}#sk-ebb2a1d9-7205-46e6-b918-6afd7a068087 div.sk-parallel {display: flex;align-items: stretch;justify-content: center;background-color: white;}#sk-ebb2a1d9-7205-46e6-b918-6afd7a068087 div.sk-parallel::before {content: \"\";position: absolute;border-left: 1px solid gray;box-sizing: border-box;top: 2em;bottom: 0;left: 50%;}#sk-ebb2a1d9-7205-46e6-b918-6afd7a068087 div.sk-parallel-item {display: flex;flex-direction: column;position: relative;background-color: white;}#sk-ebb2a1d9-7205-46e6-b918-6afd7a068087 div.sk-parallel-item:first-child::after {align-self: flex-end;width: 50%;}#sk-ebb2a1d9-7205-46e6-b918-6afd7a068087 div.sk-parallel-item:last-child::after {align-self: flex-start;width: 50%;}#sk-ebb2a1d9-7205-46e6-b918-6afd7a068087 div.sk-parallel-item:only-child::after {width: 0;}#sk-ebb2a1d9-7205-46e6-b918-6afd7a068087 div.sk-dashed-wrapped {border: 1px dashed gray;margin: 0 0.4em 0.5em 0.4em;box-sizing: border-box;padding-bottom: 0.4em;background-color: white;position: relative;}#sk-ebb2a1d9-7205-46e6-b918-6afd7a068087 div.sk-label label {font-family: monospace;font-weight: bold;background-color: white;display: inline-block;line-height: 1.2em;}#sk-ebb2a1d9-7205-46e6-b918-6afd7a068087 div.sk-label-container {position: relative;z-index: 2;text-align: center;}#sk-ebb2a1d9-7205-46e6-b918-6afd7a068087 div.sk-container {/* jupyter's `normalize.less` sets `[hidden] { display: none; }` but bootstrap.min.css set `[hidden] { display: none !important; }` so we also need the `!important` here to be able to override the default hidden behavior on the sphinx rendered scikit-learn.org. See: https://github.com/scikit-learn/scikit-learn/issues/21755 */display: inline-block !important;position: relative;}#sk-ebb2a1d9-7205-46e6-b918-6afd7a068087 div.sk-text-repr-fallback {display: none;}</style><div id=\"sk-ebb2a1d9-7205-46e6-b918-6afd7a068087\" class=\"sk-top-container\"><div class=\"sk-text-repr-fallback\"><pre>Pipeline(steps=[(&#x27;preprocessor&#x27;,\n",
       "                 ColumnTransformer(transformers=[(&#x27;num&#x27;,\n",
       "                                                  SimpleImputer(strategy=&#x27;median&#x27;),\n",
       "                                                  [&#x27;MSSubClass&#x27;, &#x27;LotFrontage&#x27;,\n",
       "                                                   &#x27;LotArea&#x27;, &#x27;OverallQual&#x27;,\n",
       "                                                   &#x27;OverallCond&#x27;, &#x27;YearBuilt&#x27;,\n",
       "                                                   &#x27;YearRemodAdd&#x27;, &#x27;MasVnrArea&#x27;,\n",
       "                                                   &#x27;BsmtFinSF1&#x27;, &#x27;BsmtFinSF2&#x27;,\n",
       "                                                   &#x27;BsmtUnfSF&#x27;, &#x27;TotalBsmtSF&#x27;,\n",
       "                                                   &#x27;1stFlrSF&#x27;, &#x27;2ndFlrSF&#x27;,\n",
       "                                                   &#x27;LowQualFinSF&#x27;, &#x27;GrLivArea&#x27;,\n",
       "                                                   &#x27;BsmtFullBath&#x27;,\n",
       "                                                   &#x27;BsmtHalfBath&#x27;, &#x27;FullBath...\n",
       "                              gamma=None, gpu_id=None, grow_policy=None,\n",
       "                              importance_type=None,\n",
       "                              interaction_constraints=None, learning_rate=None,\n",
       "                              max_bin=None, max_cat_to_onehot=None,\n",
       "                              max_delta_step=None, max_depth=None,\n",
       "                              max_leaves=None, min_child_weight=None,\n",
       "                              missing=nan, monotone_constraints=None,\n",
       "                              n_estimators=100, n_jobs=None,\n",
       "                              num_parallel_tree=None, predictor=None,\n",
       "                              random_state=None, reg_alpha=None,\n",
       "                              reg_lambda=None, ...))])</pre><b>Please rerun this cell to show the HTML repr or trust the notebook.</b></div><div class=\"sk-container\" hidden><div class=\"sk-item sk-dashed-wrapped\"><div class=\"sk-label-container\"><div class=\"sk-label sk-toggleable\"><input class=\"sk-toggleable__control sk-hidden--visually\" id=\"0542f98f-2c3d-4593-9a8e-b1790e2d18f6\" type=\"checkbox\" ><label for=\"0542f98f-2c3d-4593-9a8e-b1790e2d18f6\" class=\"sk-toggleable__label sk-toggleable__label-arrow\">Pipeline</label><div class=\"sk-toggleable__content\"><pre>Pipeline(steps=[(&#x27;preprocessor&#x27;,\n",
       "                 ColumnTransformer(transformers=[(&#x27;num&#x27;,\n",
       "                                                  SimpleImputer(strategy=&#x27;median&#x27;),\n",
       "                                                  [&#x27;MSSubClass&#x27;, &#x27;LotFrontage&#x27;,\n",
       "                                                   &#x27;LotArea&#x27;, &#x27;OverallQual&#x27;,\n",
       "                                                   &#x27;OverallCond&#x27;, &#x27;YearBuilt&#x27;,\n",
       "                                                   &#x27;YearRemodAdd&#x27;, &#x27;MasVnrArea&#x27;,\n",
       "                                                   &#x27;BsmtFinSF1&#x27;, &#x27;BsmtFinSF2&#x27;,\n",
       "                                                   &#x27;BsmtUnfSF&#x27;, &#x27;TotalBsmtSF&#x27;,\n",
       "                                                   &#x27;1stFlrSF&#x27;, &#x27;2ndFlrSF&#x27;,\n",
       "                                                   &#x27;LowQualFinSF&#x27;, &#x27;GrLivArea&#x27;,\n",
       "                                                   &#x27;BsmtFullBath&#x27;,\n",
       "                                                   &#x27;BsmtHalfBath&#x27;, &#x27;FullBath...\n",
       "                              gamma=None, gpu_id=None, grow_policy=None,\n",
       "                              importance_type=None,\n",
       "                              interaction_constraints=None, learning_rate=None,\n",
       "                              max_bin=None, max_cat_to_onehot=None,\n",
       "                              max_delta_step=None, max_depth=None,\n",
       "                              max_leaves=None, min_child_weight=None,\n",
       "                              missing=nan, monotone_constraints=None,\n",
       "                              n_estimators=100, n_jobs=None,\n",
       "                              num_parallel_tree=None, predictor=None,\n",
       "                              random_state=None, reg_alpha=None,\n",
       "                              reg_lambda=None, ...))])</pre></div></div></div><div class=\"sk-serial\"><div class=\"sk-item sk-dashed-wrapped\"><div class=\"sk-label-container\"><div class=\"sk-label sk-toggleable\"><input class=\"sk-toggleable__control sk-hidden--visually\" id=\"efcd31fe-06ad-4fb0-9019-fd05d05d3fb5\" type=\"checkbox\" ><label for=\"efcd31fe-06ad-4fb0-9019-fd05d05d3fb5\" class=\"sk-toggleable__label sk-toggleable__label-arrow\">preprocessor: ColumnTransformer</label><div class=\"sk-toggleable__content\"><pre>ColumnTransformer(transformers=[(&#x27;num&#x27;, SimpleImputer(strategy=&#x27;median&#x27;),\n",
       "                                 [&#x27;MSSubClass&#x27;, &#x27;LotFrontage&#x27;, &#x27;LotArea&#x27;,\n",
       "                                  &#x27;OverallQual&#x27;, &#x27;OverallCond&#x27;, &#x27;YearBuilt&#x27;,\n",
       "                                  &#x27;YearRemodAdd&#x27;, &#x27;MasVnrArea&#x27;, &#x27;BsmtFinSF1&#x27;,\n",
       "                                  &#x27;BsmtFinSF2&#x27;, &#x27;BsmtUnfSF&#x27;, &#x27;TotalBsmtSF&#x27;,\n",
       "                                  &#x27;1stFlrSF&#x27;, &#x27;2ndFlrSF&#x27;, &#x27;LowQualFinSF&#x27;,\n",
       "                                  &#x27;GrLivArea&#x27;, &#x27;BsmtFullBath&#x27;, &#x27;BsmtHalfBath&#x27;,\n",
       "                                  &#x27;FullBath&#x27;, &#x27;HalfBath&#x27;, &#x27;BedroomAbvGr&#x27;,\n",
       "                                  &#x27;Kit...\n",
       "                                 [&#x27;MSZoning&#x27;, &#x27;Street&#x27;, &#x27;LotShape&#x27;,\n",
       "                                  &#x27;LandContour&#x27;, &#x27;Utilities&#x27;, &#x27;LotConfig&#x27;,\n",
       "                                  &#x27;LandSlope&#x27;, &#x27;Condition1&#x27;, &#x27;Condition2&#x27;,\n",
       "                                  &#x27;BldgType&#x27;, &#x27;HouseStyle&#x27;, &#x27;RoofStyle&#x27;,\n",
       "                                  &#x27;RoofMatl&#x27;, &#x27;MasVnrType&#x27;, &#x27;ExterQual&#x27;,\n",
       "                                  &#x27;ExterCond&#x27;, &#x27;Foundation&#x27;, &#x27;BsmtQual&#x27;,\n",
       "                                  &#x27;BsmtCond&#x27;, &#x27;BsmtExposure&#x27;, &#x27;BsmtFinType1&#x27;,\n",
       "                                  &#x27;BsmtFinType2&#x27;, &#x27;Heating&#x27;, &#x27;HeatingQC&#x27;,\n",
       "                                  &#x27;CentralAir&#x27;, &#x27;Electrical&#x27;, &#x27;KitchenQual&#x27;,\n",
       "                                  &#x27;Functional&#x27;, &#x27;FireplaceQu&#x27;, &#x27;GarageType&#x27;, ...])])</pre></div></div></div><div class=\"sk-parallel\"><div class=\"sk-parallel-item\"><div class=\"sk-item\"><div class=\"sk-label-container\"><div class=\"sk-label sk-toggleable\"><input class=\"sk-toggleable__control sk-hidden--visually\" id=\"f9f3d54c-cabf-434f-8e6e-8e59f7d06634\" type=\"checkbox\" ><label for=\"f9f3d54c-cabf-434f-8e6e-8e59f7d06634\" class=\"sk-toggleable__label sk-toggleable__label-arrow\">num</label><div class=\"sk-toggleable__content\"><pre>[&#x27;MSSubClass&#x27;, &#x27;LotFrontage&#x27;, &#x27;LotArea&#x27;, &#x27;OverallQual&#x27;, &#x27;OverallCond&#x27;, &#x27;YearBuilt&#x27;, &#x27;YearRemodAdd&#x27;, &#x27;MasVnrArea&#x27;, &#x27;BsmtFinSF1&#x27;, &#x27;BsmtFinSF2&#x27;, &#x27;BsmtUnfSF&#x27;, &#x27;TotalBsmtSF&#x27;, &#x27;1stFlrSF&#x27;, &#x27;2ndFlrSF&#x27;, &#x27;LowQualFinSF&#x27;, &#x27;GrLivArea&#x27;, &#x27;BsmtFullBath&#x27;, &#x27;BsmtHalfBath&#x27;, &#x27;FullBath&#x27;, &#x27;HalfBath&#x27;, &#x27;BedroomAbvGr&#x27;, &#x27;KitchenAbvGr&#x27;, &#x27;TotRmsAbvGrd&#x27;, &#x27;Fireplaces&#x27;, &#x27;GarageYrBlt&#x27;, &#x27;GarageCars&#x27;, &#x27;GarageArea&#x27;, &#x27;WoodDeckSF&#x27;, &#x27;OpenPorchSF&#x27;, &#x27;EnclosedPorch&#x27;, &#x27;3SsnPorch&#x27;, &#x27;ScreenPorch&#x27;, &#x27;PoolArea&#x27;, &#x27;MiscVal&#x27;, &#x27;MoSold&#x27;, &#x27;YrSold&#x27;, &#x27;Garage&#x27;, &#x27;Fireplace&#x27;, &#x27;Bsmt&#x27;]</pre></div></div></div><div class=\"sk-serial\"><div class=\"sk-item\"><div class=\"sk-estimator sk-toggleable\"><input class=\"sk-toggleable__control sk-hidden--visually\" id=\"1bf018ae-2231-402c-9c96-e8ae73c5d639\" type=\"checkbox\" ><label for=\"1bf018ae-2231-402c-9c96-e8ae73c5d639\" class=\"sk-toggleable__label sk-toggleable__label-arrow\">SimpleImputer</label><div class=\"sk-toggleable__content\"><pre>SimpleImputer(strategy=&#x27;median&#x27;)</pre></div></div></div></div></div></div><div class=\"sk-parallel-item\"><div class=\"sk-item\"><div class=\"sk-label-container\"><div class=\"sk-label sk-toggleable\"><input class=\"sk-toggleable__control sk-hidden--visually\" id=\"0a4bf735-df0f-440d-924a-75b912d9a9b1\" type=\"checkbox\" ><label for=\"0a4bf735-df0f-440d-924a-75b912d9a9b1\" class=\"sk-toggleable__label sk-toggleable__label-arrow\">cat</label><div class=\"sk-toggleable__content\"><pre>[&#x27;MSZoning&#x27;, &#x27;Street&#x27;, &#x27;LotShape&#x27;, &#x27;LandContour&#x27;, &#x27;Utilities&#x27;, &#x27;LotConfig&#x27;, &#x27;LandSlope&#x27;, &#x27;Condition1&#x27;, &#x27;Condition2&#x27;, &#x27;BldgType&#x27;, &#x27;HouseStyle&#x27;, &#x27;RoofStyle&#x27;, &#x27;RoofMatl&#x27;, &#x27;MasVnrType&#x27;, &#x27;ExterQual&#x27;, &#x27;ExterCond&#x27;, &#x27;Foundation&#x27;, &#x27;BsmtQual&#x27;, &#x27;BsmtCond&#x27;, &#x27;BsmtExposure&#x27;, &#x27;BsmtFinType1&#x27;, &#x27;BsmtFinType2&#x27;, &#x27;Heating&#x27;, &#x27;HeatingQC&#x27;, &#x27;CentralAir&#x27;, &#x27;Electrical&#x27;, &#x27;KitchenQual&#x27;, &#x27;Functional&#x27;, &#x27;FireplaceQu&#x27;, &#x27;GarageType&#x27;, &#x27;GarageFinish&#x27;, &#x27;GarageQual&#x27;, &#x27;GarageCond&#x27;, &#x27;PavedDrive&#x27;, &#x27;SaleType&#x27;, &#x27;SaleCondition&#x27;]</pre></div></div></div><div class=\"sk-serial\"><div class=\"sk-item\"><div class=\"sk-serial\"><div class=\"sk-item\"><div class=\"sk-estimator sk-toggleable\"><input class=\"sk-toggleable__control sk-hidden--visually\" id=\"0cc8cf61-3db3-468c-ba22-51431b160750\" type=\"checkbox\" ><label for=\"0cc8cf61-3db3-468c-ba22-51431b160750\" class=\"sk-toggleable__label sk-toggleable__label-arrow\">SimpleImputer</label><div class=\"sk-toggleable__content\"><pre>SimpleImputer(strategy=&#x27;most_frequent&#x27;)</pre></div></div></div><div class=\"sk-item\"><div class=\"sk-estimator sk-toggleable\"><input class=\"sk-toggleable__control sk-hidden--visually\" id=\"39f096e7-e2f6-4e2b-9578-5664e061ed76\" type=\"checkbox\" ><label for=\"39f096e7-e2f6-4e2b-9578-5664e061ed76\" class=\"sk-toggleable__label sk-toggleable__label-arrow\">OneHotEncoder</label><div class=\"sk-toggleable__content\"><pre>OneHotEncoder(handle_unknown=&#x27;ignore&#x27;)</pre></div></div></div></div></div></div></div></div></div></div><div class=\"sk-item\"><div class=\"sk-estimator sk-toggleable\"><input class=\"sk-toggleable__control sk-hidden--visually\" id=\"d56d8b65-14b0-49d3-b9c7-4d4d0ebe94b7\" type=\"checkbox\" ><label for=\"d56d8b65-14b0-49d3-b9c7-4d4d0ebe94b7\" class=\"sk-toggleable__label sk-toggleable__label-arrow\">XGBRegressor</label><div class=\"sk-toggleable__content\"><pre>XGBRegressor(base_score=None, booster=None, callbacks=None,\n",
       "             colsample_bylevel=None, colsample_bynode=None,\n",
       "             colsample_bytree=None, early_stopping_rounds=None,\n",
       "             enable_categorical=False, eval_metric=None, gamma=None,\n",
       "             gpu_id=None, grow_policy=None, importance_type=None,\n",
       "             interaction_constraints=None, learning_rate=None, max_bin=None,\n",
       "             max_cat_to_onehot=None, max_delta_step=None, max_depth=None,\n",
       "             max_leaves=None, min_child_weight=None, missing=nan,\n",
       "             monotone_constraints=None, n_estimators=100, n_jobs=None,\n",
       "             num_parallel_tree=None, predictor=None, random_state=None,\n",
       "             reg_alpha=None, reg_lambda=None, ...)</pre></div></div></div></div></div></div></div>"
      ],
      "text/plain": [
       "Pipeline(steps=[('preprocessor',\n",
       "                 ColumnTransformer(transformers=[('num',\n",
       "                                                  SimpleImputer(strategy='median'),\n",
       "                                                  ['MSSubClass', 'LotFrontage',\n",
       "                                                   'LotArea', 'OverallQual',\n",
       "                                                   'OverallCond', 'YearBuilt',\n",
       "                                                   'YearRemodAdd', 'MasVnrArea',\n",
       "                                                   'BsmtFinSF1', 'BsmtFinSF2',\n",
       "                                                   'BsmtUnfSF', 'TotalBsmtSF',\n",
       "                                                   '1stFlrSF', '2ndFlrSF',\n",
       "                                                   'LowQualFinSF', 'GrLivArea',\n",
       "                                                   'BsmtFullBath',\n",
       "                                                   'BsmtHalfBath', 'FullBath...\n",
       "                              gamma=None, gpu_id=None, grow_policy=None,\n",
       "                              importance_type=None,\n",
       "                              interaction_constraints=None, learning_rate=None,\n",
       "                              max_bin=None, max_cat_to_onehot=None,\n",
       "                              max_delta_step=None, max_depth=None,\n",
       "                              max_leaves=None, min_child_weight=None,\n",
       "                              missing=nan, monotone_constraints=None,\n",
       "                              n_estimators=100, n_jobs=None,\n",
       "                              num_parallel_tree=None, predictor=None,\n",
       "                              random_state=None, reg_alpha=None,\n",
       "                              reg_lambda=None, ...))])"
      ]
     },
     "execution_count": 17,
     "metadata": {},
     "output_type": "execute_result"
    }
   ],
   "source": [
    "from sklearn import set_config\n",
    "set_config(display='diagram')\n",
    "regressor"
   ]
  },
  {
   "cell_type": "markdown",
   "id": "91fbc3a7",
   "metadata": {
    "papermill": {
     "duration": 0.009031,
     "end_time": "2022-10-06T18:50:46.178831",
     "exception": false,
     "start_time": "2022-10-06T18:50:46.169800",
     "status": "completed"
    },
    "tags": []
   },
   "source": [
    "## Grid Search & Cross Validation"
   ]
  },
  {
   "cell_type": "code",
   "execution_count": 18,
   "id": "e632a7d8",
   "metadata": {
    "_kg_hide-output": true,
    "execution": {
     "iopub.execute_input": "2022-10-06T18:50:46.198805Z",
     "iopub.status.busy": "2022-10-06T18:50:46.198029Z",
     "iopub.status.idle": "2022-10-06T18:50:46.202152Z",
     "shell.execute_reply": "2022-10-06T18:50:46.201576Z"
    },
    "papermill": {
     "duration": 0.016396,
     "end_time": "2022-10-06T18:50:46.204215",
     "exception": false,
     "start_time": "2022-10-06T18:50:46.187819",
     "status": "completed"
    },
    "tags": []
   },
   "outputs": [],
   "source": [
    "# Hyper-Parameters that can be optimised using GridSearch\n",
    "regressor.get_params().keys();"
   ]
  },
  {
   "cell_type": "code",
   "execution_count": 19,
   "id": "542aeb45",
   "metadata": {
    "execution": {
     "iopub.execute_input": "2022-10-06T18:50:46.224599Z",
     "iopub.status.busy": "2022-10-06T18:50:46.224038Z",
     "iopub.status.idle": "2022-10-06T18:50:46.228451Z",
     "shell.execute_reply": "2022-10-06T18:50:46.227698Z"
    },
    "papermill": {
     "duration": 0.017359,
     "end_time": "2022-10-06T18:50:46.230857",
     "exception": false,
     "start_time": "2022-10-06T18:50:46.213498",
     "status": "completed"
    },
    "tags": []
   },
   "outputs": [],
   "source": [
    "param_grid = [\n",
    "    {        \n",
    "        \"model__learning_rate\": [.06, .03],\n",
    "        \"model__n_estimators\": [100, 500],\n",
    "        \"model__max_depth\": [7, 8, 9]\n",
    "    }\n",
    "]\n",
    "grid_search = GridSearchCV(regressor, param_grid, cv=4, verbose=1)"
   ]
  },
  {
   "cell_type": "markdown",
   "id": "898c82e9",
   "metadata": {
    "papermill": {
     "duration": 0.009178,
     "end_time": "2022-10-06T18:50:46.249577",
     "exception": false,
     "start_time": "2022-10-06T18:50:46.240399",
     "status": "completed"
    },
    "tags": []
   },
   "source": [
    "# 6) Training and Testing Model"
   ]
  },
  {
   "cell_type": "code",
   "execution_count": 20,
   "id": "1b32105e",
   "metadata": {
    "execution": {
     "iopub.execute_input": "2022-10-06T18:50:46.271243Z",
     "iopub.status.busy": "2022-10-06T18:50:46.270710Z",
     "iopub.status.idle": "2022-10-06T18:53:14.665196Z",
     "shell.execute_reply": "2022-10-06T18:53:14.664429Z"
    },
    "papermill": {
     "duration": 148.408035,
     "end_time": "2022-10-06T18:53:14.667473",
     "exception": false,
     "start_time": "2022-10-06T18:50:46.259438",
     "status": "completed"
    },
    "tags": []
   },
   "outputs": [
    {
     "name": "stdout",
     "output_type": "stream",
     "text": [
      "Fitting 4 folds for each of 12 candidates, totalling 48 fits\n"
     ]
    }
   ],
   "source": [
    "grid_search.fit(X, y);"
   ]
  },
  {
   "cell_type": "code",
   "execution_count": 21,
   "id": "935b9685",
   "metadata": {
    "execution": {
     "iopub.execute_input": "2022-10-06T18:53:14.689830Z",
     "iopub.status.busy": "2022-10-06T18:53:14.688664Z",
     "iopub.status.idle": "2022-10-06T18:53:14.739861Z",
     "shell.execute_reply": "2022-10-06T18:53:14.739123Z"
    },
    "papermill": {
     "duration": 0.065342,
     "end_time": "2022-10-06T18:53:14.742874",
     "exception": false,
     "start_time": "2022-10-06T18:53:14.677532",
     "status": "completed"
    },
    "tags": []
   },
   "outputs": [
    {
     "name": "stdout",
     "output_type": "stream",
     "text": [
      "Best params:\n",
      "{'model__learning_rate': 0.03, 'model__max_depth': 9, 'model__n_estimators': 500}\n",
      "Best score in grid search:\n",
      "0.8680925196913298\n",
      "Best XGBoost on whole trained data:\n",
      "0.9997468643062313\n"
     ]
    }
   ],
   "source": [
    "print(\"Best params:\")\n",
    "print(grid_search.best_params_)\n",
    "print(\"Best score in grid search:\")\n",
    "print(grid_search.best_score_)\n",
    "print(\"Best XGBoost on whole trained data:\")\n",
    "print(grid_search.score(X, y))"
   ]
  },
  {
   "cell_type": "markdown",
   "id": "1212b0b9",
   "metadata": {
    "papermill": {
     "duration": 0.009322,
     "end_time": "2022-10-06T18:53:14.763493",
     "exception": false,
     "start_time": "2022-10-06T18:53:14.754171",
     "status": "completed"
    },
    "tags": []
   },
   "source": [
    "## Generate test predictions"
   ]
  },
  {
   "cell_type": "code",
   "execution_count": 22,
   "id": "e9e7e28c",
   "metadata": {
    "execution": {
     "iopub.execute_input": "2022-10-06T18:53:14.784850Z",
     "iopub.status.busy": "2022-10-06T18:53:14.784529Z",
     "iopub.status.idle": "2022-10-06T18:53:14.832099Z",
     "shell.execute_reply": "2022-10-06T18:53:14.831341Z"
    },
    "papermill": {
     "duration": 0.061034,
     "end_time": "2022-10-06T18:53:14.834265",
     "exception": false,
     "start_time": "2022-10-06T18:53:14.773231",
     "status": "completed"
    },
    "tags": []
   },
   "outputs": [],
   "source": [
    "y_preds = grid_search.predict(X_test)"
   ]
  },
  {
   "cell_type": "markdown",
   "id": "f4cc88a5",
   "metadata": {
    "papermill": {
     "duration": 0.008888,
     "end_time": "2022-10-06T18:53:14.854272",
     "exception": false,
     "start_time": "2022-10-06T18:53:14.845384",
     "status": "completed"
    },
    "tags": []
   },
   "source": [
    "## Save output to CSV file"
   ]
  },
  {
   "cell_type": "code",
   "execution_count": 23,
   "id": "8eee2a42",
   "metadata": {
    "execution": {
     "iopub.execute_input": "2022-10-06T18:53:14.874564Z",
     "iopub.status.busy": "2022-10-06T18:53:14.874236Z",
     "iopub.status.idle": "2022-10-06T18:53:14.885866Z",
     "shell.execute_reply": "2022-10-06T18:53:14.884321Z"
    },
    "papermill": {
     "duration": 0.024702,
     "end_time": "2022-10-06T18:53:14.888320",
     "exception": false,
     "start_time": "2022-10-06T18:53:14.863618",
     "status": "completed"
    },
    "tags": []
   },
   "outputs": [],
   "source": [
    "# Save test predictions to file\n",
    "output = pd.DataFrame({'Id': X_test.index,\n",
    "                       'SalePrice': y_preds.round()})\n",
    "output.to_csv('submission.csv', index=False)"
   ]
  },
  {
   "cell_type": "markdown",
   "id": "3e448d7a",
   "metadata": {
    "papermill": {
     "duration": 0.008883,
     "end_time": "2022-10-06T18:53:14.906463",
     "exception": false,
     "start_time": "2022-10-06T18:53:14.897580",
     "status": "completed"
    },
    "tags": []
   },
   "source": [
    "## Submit your results"
   ]
  },
  {
   "cell_type": "code",
   "execution_count": 24,
   "id": "c1e0648b",
   "metadata": {
    "execution": {
     "iopub.execute_input": "2022-10-06T18:53:14.927773Z",
     "iopub.status.busy": "2022-10-06T18:53:14.927199Z",
     "iopub.status.idle": "2022-10-06T18:53:14.937097Z",
     "shell.execute_reply": "2022-10-06T18:53:14.935818Z"
    },
    "papermill": {
     "duration": 0.022733,
     "end_time": "2022-10-06T18:53:14.939027",
     "exception": false,
     "start_time": "2022-10-06T18:53:14.916294",
     "status": "completed"
    },
    "tags": []
   },
   "outputs": [
    {
     "data": {
      "text/html": [
       "<div>\n",
       "<style scoped>\n",
       "    .dataframe tbody tr th:only-of-type {\n",
       "        vertical-align: middle;\n",
       "    }\n",
       "\n",
       "    .dataframe tbody tr th {\n",
       "        vertical-align: top;\n",
       "    }\n",
       "\n",
       "    .dataframe thead th {\n",
       "        text-align: right;\n",
       "    }\n",
       "</style>\n",
       "<table border=\"1\" class=\"dataframe\">\n",
       "  <thead>\n",
       "    <tr style=\"text-align: right;\">\n",
       "      <th></th>\n",
       "      <th>Id</th>\n",
       "      <th>SalePrice</th>\n",
       "    </tr>\n",
       "  </thead>\n",
       "  <tbody>\n",
       "    <tr>\n",
       "      <th>0</th>\n",
       "      <td>1461</td>\n",
       "      <td>126119.0</td>\n",
       "    </tr>\n",
       "    <tr>\n",
       "      <th>1</th>\n",
       "      <td>1462</td>\n",
       "      <td>151515.0</td>\n",
       "    </tr>\n",
       "  </tbody>\n",
       "</table>\n",
       "</div>"
      ],
      "text/plain": [
       "     Id  SalePrice\n",
       "0  1461   126119.0\n",
       "1  1462   151515.0"
      ]
     },
     "execution_count": 24,
     "metadata": {},
     "output_type": "execute_result"
    }
   ],
   "source": [
    "output.head(2)"
   ]
  }
 ],
 "metadata": {
  "kernelspec": {
   "display_name": "Python 3",
   "language": "python",
   "name": "python3"
  },
  "language_info": {
   "codemirror_mode": {
    "name": "ipython",
    "version": 3
   },
   "file_extension": ".py",
   "mimetype": "text/x-python",
   "name": "python",
   "nbconvert_exporter": "python",
   "pygments_lexer": "ipython3",
   "version": "3.7.12"
  },
  "papermill": {
   "default_parameters": {},
   "duration": 160.730083,
   "end_time": "2022-10-06T18:53:15.771017",
   "environment_variables": {},
   "exception": null,
   "input_path": "__notebook__.ipynb",
   "output_path": "__notebook__.ipynb",
   "parameters": {},
   "start_time": "2022-10-06T18:50:35.040934",
   "version": "2.3.4"
  }
 },
 "nbformat": 4,
 "nbformat_minor": 5
}
